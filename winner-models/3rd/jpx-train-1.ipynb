{
 "cells": [
  {
   "cell_type": "code",
   "execution_count": 1,
   "id": "2582de27",
   "metadata": {
    "execution": {
     "iopub.execute_input": "2022-06-15T04:13:47.314619Z",
     "iopub.status.busy": "2022-06-15T04:13:47.313507Z",
     "iopub.status.idle": "2022-06-15T04:13:50.231644Z",
     "shell.execute_reply": "2022-06-15T04:13:50.230715Z",
     "shell.execute_reply.started": "2022-06-15T04:10:38.908485Z"
    },
    "papermill": {
     "duration": 2.944504,
     "end_time": "2022-06-15T04:13:50.231829",
     "exception": false,
     "start_time": "2022-06-15T04:13:47.287325",
     "status": "completed"
    },
    "tags": []
   },
   "outputs": [
    {
     "data": {
      "text/html": [
       "<style type='text/css'>\n",
       ".datatable table.frame { margin-bottom: 0; }\n",
       ".datatable table.frame thead { border-bottom: none; }\n",
       ".datatable table.frame tr.coltypes td {  color: #FFFFFF;  line-height: 6px;  padding: 0 0.5em;}\n",
       ".datatable .bool    { background: #DDDD99; }\n",
       ".datatable .object  { background: #565656; }\n",
       ".datatable .int     { background: #5D9E5D; }\n",
       ".datatable .float   { background: #4040CC; }\n",
       ".datatable .str     { background: #CC4040; }\n",
       ".datatable .time    { background: #40CC40; }\n",
       ".datatable .row_index {  background: var(--jp-border-color3);  border-right: 1px solid var(--jp-border-color0);  color: var(--jp-ui-font-color3);  font-size: 9px;}\n",
       ".datatable .frame tbody td { text-align: left; }\n",
       ".datatable .frame tr.coltypes .row_index {  background: var(--jp-border-color0);}\n",
       ".datatable th:nth-child(2) { padding-left: 12px; }\n",
       ".datatable .hellipsis {  color: var(--jp-cell-editor-border-color);}\n",
       ".datatable .vellipsis {  background: var(--jp-layout-color0);  color: var(--jp-cell-editor-border-color);}\n",
       ".datatable .na {  color: var(--jp-cell-editor-border-color);  font-size: 80%;}\n",
       ".datatable .sp {  opacity: 0.25;}\n",
       ".datatable .footer { font-size: 9px; }\n",
       ".datatable .frame_dimensions {  background: var(--jp-border-color3);  border-top: 1px solid var(--jp-border-color0);  color: var(--jp-ui-font-color3);  display: inline-block;  opacity: 0.6;  padding: 1px 10px 1px 5px;}\n",
       "</style>\n"
      ],
      "text/plain": [
       "<IPython.core.display.HTML object>"
      ]
     },
     "metadata": {},
     "output_type": "display_data"
    }
   ],
   "source": [
    "import numpy as np\n",
    "import pandas as pd\n",
    "import jpx_tokyo_market_prediction\n",
    "from sklearn.tree import DecisionTreeRegressor\n",
    "from tqdm.notebook import tqdm\n",
    "import xgboost as xgb\n",
    "import lightgbm as lgb\n",
    "from sklearn.model_selection import train_test_split\n",
    "\n",
    "import optuna\n",
    "optuna.logging.set_verbosity(optuna.logging.CRITICAL)"
   ]
  },
  {
   "cell_type": "code",
   "execution_count": 2,
   "id": "0a1f3a0e",
   "metadata": {
    "execution": {
     "iopub.execute_input": "2022-06-15T04:13:50.282824Z",
     "iopub.status.busy": "2022-06-15T04:13:50.282018Z",
     "iopub.status.idle": "2022-06-15T04:13:57.336568Z",
     "shell.execute_reply": "2022-06-15T04:13:57.337054Z",
     "shell.execute_reply.started": "2022-06-15T04:10:42.331432Z"
    },
    "papermill": {
     "duration": 7.0804,
     "end_time": "2022-06-15T04:13:57.337206",
     "exception": false,
     "start_time": "2022-06-15T04:13:50.256806",
     "status": "completed"
    },
    "tags": []
   },
   "outputs": [
    {
     "name": "stdout",
     "output_type": "stream",
     "text": [
      "<class 'pandas.core.frame.DataFrame'>\n",
      "Int64Index: 317958 entries, 2244531 to 229957\n",
      "Data columns (total 12 columns):\n",
      " #   Column            Non-Null Count   Dtype  \n",
      "---  ------            --------------   -----  \n",
      " 0   RowId             317958 non-null  object \n",
      " 1   Date              317958 non-null  object \n",
      " 2   SecuritiesCode    317958 non-null  int64  \n",
      " 3   Open              316967 non-null  float64\n",
      " 4   High              316967 non-null  float64\n",
      " 5   Low               316967 non-null  float64\n",
      " 6   Close             316967 non-null  float64\n",
      " 7   Volume            317958 non-null  int64  \n",
      " 8   AdjustmentFactor  317958 non-null  float64\n",
      " 9   ExpectedDividend  2109 non-null    float64\n",
      " 10  SupervisionFlag   317958 non-null  bool   \n",
      " 11  Target            317952 non-null  float64\n",
      "dtypes: bool(1), float64(7), int64(2), object(2)\n",
      "memory usage: 29.4+ MB\n",
      "CPU times: user 4.84 s, sys: 365 ms, total: 5.21 s\n",
      "Wall time: 7.05 s\n"
     ]
    }
   ],
   "source": [
    "%%time\n",
    "# Loading Stock Prices\n",
    "path = \"../input/jpx-tokyo-stock-exchange-prediction/\"\n",
    "df_prices = pd.read_csv(f\"{path}train_files/stock_prices.csv\")\n",
    "df_prices = df_prices[~df_prices[\"Target\"].isnull()]\n",
    "prices = pd.read_csv(f\"{path}supplemental_files/stock_prices.csv\")#最新的辅助文件\n",
    "df_prices = pd.concat([df_prices, prices])\n",
    "df_prices = df_prices[df_prices.Date>=\"2021-10-01\"]\n",
    "df_prices.info(show_counts=True)"
   ]
  },
  {
   "cell_type": "code",
   "execution_count": 3,
   "id": "c66656b3",
   "metadata": {
    "execution": {
     "iopub.execute_input": "2022-06-15T04:13:57.389635Z",
     "iopub.status.busy": "2022-06-15T04:13:57.388985Z",
     "iopub.status.idle": "2022-06-15T04:13:57.391677Z",
     "shell.execute_reply": "2022-06-15T04:13:57.392218Z",
     "shell.execute_reply.started": "2022-06-15T04:10:51.175633Z"
    },
    "papermill": {
     "duration": 0.031595,
     "end_time": "2022-06-15T04:13:57.392370",
     "exception": false,
     "start_time": "2022-06-15T04:13:57.360775",
     "status": "completed"
    },
    "tags": []
   },
   "outputs": [
    {
     "name": "stdout",
     "output_type": "stream",
     "text": [
      "(229958, 12) (317958, 12)\n"
     ]
    }
   ],
   "source": [
    "print(prices.shape,df_prices.shape)"
   ]
  },
  {
   "cell_type": "code",
   "execution_count": 4,
   "id": "069bc84c",
   "metadata": {
    "execution": {
     "iopub.execute_input": "2022-06-15T04:13:57.447687Z",
     "iopub.status.busy": "2022-06-15T04:13:57.444666Z",
     "iopub.status.idle": "2022-06-15T04:13:57.450100Z",
     "shell.execute_reply": "2022-06-15T04:13:57.449677Z",
     "shell.execute_reply.started": "2022-06-15T04:10:54.569199Z"
    },
    "papermill": {
     "duration": 0.033209,
     "end_time": "2022-06-15T04:13:57.450209",
     "exception": false,
     "start_time": "2022-06-15T04:13:57.417000",
     "status": "completed"
    },
    "tags": []
   },
   "outputs": [],
   "source": [
    "def fill_nans(prices):\n",
    "    prices.set_index([\"SecuritiesCode\", \"Date\"], inplace=True)\n",
    "    prices.ExpectedDividend.fillna(0,inplace=True)\n",
    "    prices.ffill(inplace=True)\n",
    "    prices.fillna(0,inplace=True)\n",
    "    prices.reset_index(inplace=True)\n",
    "    return prices"
   ]
  },
  {
   "cell_type": "code",
   "execution_count": 5,
   "id": "6232bb45",
   "metadata": {
    "execution": {
     "iopub.execute_input": "2022-06-15T04:13:57.487080Z",
     "iopub.status.busy": "2022-06-15T04:13:57.486588Z",
     "iopub.status.idle": "2022-06-15T04:13:57.824759Z",
     "shell.execute_reply": "2022-06-15T04:13:57.824168Z",
     "shell.execute_reply.started": "2022-06-15T04:10:55.152279Z"
    },
    "papermill": {
     "duration": 0.358641,
     "end_time": "2022-06-15T04:13:57.824892",
     "exception": false,
     "start_time": "2022-06-15T04:13:57.466251",
     "status": "completed"
    },
    "tags": []
   },
   "outputs": [
    {
     "name": "stdout",
     "output_type": "stream",
     "text": [
      "CPU times: user 316 ms, sys: 37 µs, total: 316 ms\n",
      "Wall time: 319 ms\n"
     ]
    },
    {
     "data": {
      "text/html": [
       "<div>\n",
       "<style scoped>\n",
       "    .dataframe tbody tr th:only-of-type {\n",
       "        vertical-align: middle;\n",
       "    }\n",
       "\n",
       "    .dataframe tbody tr th {\n",
       "        vertical-align: top;\n",
       "    }\n",
       "\n",
       "    .dataframe thead th {\n",
       "        text-align: right;\n",
       "    }\n",
       "</style>\n",
       "<table border=\"1\" class=\"dataframe\">\n",
       "  <thead>\n",
       "    <tr style=\"text-align: right;\">\n",
       "      <th></th>\n",
       "      <th>SecuritiesCode</th>\n",
       "      <th>Open</th>\n",
       "      <th>High</th>\n",
       "      <th>Low</th>\n",
       "      <th>Close</th>\n",
       "      <th>Volume</th>\n",
       "      <th>AdjustmentFactor</th>\n",
       "      <th>ExpectedDividend</th>\n",
       "      <th>Target</th>\n",
       "    </tr>\n",
       "  </thead>\n",
       "  <tbody>\n",
       "    <tr>\n",
       "      <th>count</th>\n",
       "      <td>317958.000000</td>\n",
       "      <td>317958.000000</td>\n",
       "      <td>317958.000000</td>\n",
       "      <td>317958.000000</td>\n",
       "      <td>317958.000000</td>\n",
       "      <td>3.179580e+05</td>\n",
       "      <td>317958.000000</td>\n",
       "      <td>317958.000000</td>\n",
       "      <td>317958.000000</td>\n",
       "    </tr>\n",
       "    <tr>\n",
       "      <th>mean</th>\n",
       "      <td>5883.169098</td>\n",
       "      <td>2678.654362</td>\n",
       "      <td>2712.015742</td>\n",
       "      <td>2641.133593</td>\n",
       "      <td>2675.499613</td>\n",
       "      <td>6.348360e+05</td>\n",
       "      <td>0.999983</td>\n",
       "      <td>0.209583</td>\n",
       "      <td>-0.000368</td>\n",
       "    </tr>\n",
       "    <tr>\n",
       "      <th>std</th>\n",
       "      <td>2389.579600</td>\n",
       "      <td>4201.170015</td>\n",
       "      <td>4253.857654</td>\n",
       "      <td>4140.124817</td>\n",
       "      <td>4194.782076</td>\n",
       "      <td>2.591023e+06</td>\n",
       "      <td>0.016752</td>\n",
       "      <td>5.066329</td>\n",
       "      <td>0.023925</td>\n",
       "    </tr>\n",
       "    <tr>\n",
       "      <th>min</th>\n",
       "      <td>1301.000000</td>\n",
       "      <td>34.000000</td>\n",
       "      <td>35.000000</td>\n",
       "      <td>33.000000</td>\n",
       "      <td>34.000000</td>\n",
       "      <td>0.000000e+00</td>\n",
       "      <td>0.250000</td>\n",
       "      <td>0.000000</td>\n",
       "      <td>-0.524904</td>\n",
       "    </tr>\n",
       "    <tr>\n",
       "      <th>25%</th>\n",
       "      <td>3916.000000</td>\n",
       "      <td>1024.000000</td>\n",
       "      <td>1037.000000</td>\n",
       "      <td>1010.250000</td>\n",
       "      <td>1023.000000</td>\n",
       "      <td>3.260000e+04</td>\n",
       "      <td>1.000000</td>\n",
       "      <td>0.000000</td>\n",
       "      <td>-0.012048</td>\n",
       "    </tr>\n",
       "    <tr>\n",
       "      <th>50%</th>\n",
       "      <td>6201.000000</td>\n",
       "      <td>1817.000000</td>\n",
       "      <td>1839.000000</td>\n",
       "      <td>1793.000000</td>\n",
       "      <td>1815.000000</td>\n",
       "      <td>9.890000e+04</td>\n",
       "      <td>1.000000</td>\n",
       "      <td>0.000000</td>\n",
       "      <td>-0.000367</td>\n",
       "    </tr>\n",
       "    <tr>\n",
       "      <th>75%</th>\n",
       "      <td>7937.000000</td>\n",
       "      <td>2983.000000</td>\n",
       "      <td>3015.000000</td>\n",
       "      <td>2942.000000</td>\n",
       "      <td>2980.000000</td>\n",
       "      <td>3.812000e+05</td>\n",
       "      <td>1.000000</td>\n",
       "      <td>0.000000</td>\n",
       "      <td>0.010778</td>\n",
       "    </tr>\n",
       "    <tr>\n",
       "      <th>max</th>\n",
       "      <td>9997.000000</td>\n",
       "      <td>82000.000000</td>\n",
       "      <td>82060.000000</td>\n",
       "      <td>79100.000000</td>\n",
       "      <td>80030.000000</td>\n",
       "      <td>3.131481e+08</td>\n",
       "      <td>10.000000</td>\n",
       "      <td>1080.000000</td>\n",
       "      <td>0.597907</td>\n",
       "    </tr>\n",
       "  </tbody>\n",
       "</table>\n",
       "</div>"
      ],
      "text/plain": [
       "       SecuritiesCode           Open           High            Low  \\\n",
       "count   317958.000000  317958.000000  317958.000000  317958.000000   \n",
       "mean      5883.169098    2678.654362    2712.015742    2641.133593   \n",
       "std       2389.579600    4201.170015    4253.857654    4140.124817   \n",
       "min       1301.000000      34.000000      35.000000      33.000000   \n",
       "25%       3916.000000    1024.000000    1037.000000    1010.250000   \n",
       "50%       6201.000000    1817.000000    1839.000000    1793.000000   \n",
       "75%       7937.000000    2983.000000    3015.000000    2942.000000   \n",
       "max       9997.000000   82000.000000   82060.000000   79100.000000   \n",
       "\n",
       "               Close        Volume  AdjustmentFactor  ExpectedDividend  \\\n",
       "count  317958.000000  3.179580e+05     317958.000000     317958.000000   \n",
       "mean     2675.499613  6.348360e+05          0.999983          0.209583   \n",
       "std      4194.782076  2.591023e+06          0.016752          5.066329   \n",
       "min        34.000000  0.000000e+00          0.250000          0.000000   \n",
       "25%      1023.000000  3.260000e+04          1.000000          0.000000   \n",
       "50%      1815.000000  9.890000e+04          1.000000          0.000000   \n",
       "75%      2980.000000  3.812000e+05          1.000000          0.000000   \n",
       "max     80030.000000  3.131481e+08         10.000000       1080.000000   \n",
       "\n",
       "              Target  \n",
       "count  317958.000000  \n",
       "mean       -0.000368  \n",
       "std         0.023925  \n",
       "min        -0.524904  \n",
       "25%        -0.012048  \n",
       "50%        -0.000367  \n",
       "75%         0.010778  \n",
       "max         0.597907  "
      ]
     },
     "execution_count": 5,
     "metadata": {},
     "output_type": "execute_result"
    }
   ],
   "source": [
    "%%time\n",
    "df_prices = fill_nans(df_prices)\n",
    "prices = fill_nans(prices)\n",
    "# pd.options.display.float_format = '{:,.6g}'.format\n",
    "df_prices.describe()"
   ]
  },
  {
   "cell_type": "code",
   "execution_count": 6,
   "id": "73817579",
   "metadata": {
    "execution": {
     "iopub.execute_input": "2022-06-15T04:13:57.878624Z",
     "iopub.status.busy": "2022-06-15T04:13:57.878032Z",
     "iopub.status.idle": "2022-06-15T04:13:57.885297Z",
     "shell.execute_reply": "2022-06-15T04:13:57.885825Z",
     "shell.execute_reply.started": "2022-06-15T04:10:56.508766Z"
    },
    "papermill": {
     "duration": 0.035857,
     "end_time": "2022-06-15T04:13:57.885959",
     "exception": false,
     "start_time": "2022-06-15T04:13:57.850102",
     "status": "completed"
    },
    "tags": []
   },
   "outputs": [],
   "source": [
    "# Utilities \n",
    "def calc_spread_return_per_day(df, portfolio_size, toprank_weight_ratio):\n",
    "    weights = np.linspace(start=toprank_weight_ratio, stop=1, num=portfolio_size)#通过定义均匀间隔创建数值序列。\n",
    "    weights_mean = weights.mean()\n",
    "    df = df.sort_values(by='Rank')\n",
    "    purchase = (df['Target'][:portfolio_size]  * weights).sum() / weights_mean\n",
    "    short    = (df['Target'][-portfolio_size:] * weights[::-1]).sum() / weights_mean\n",
    "    return purchase - short\n",
    "\n",
    "def calc_spread_return_sharpe(df, portfolio_size=200, toprank_weight_ratio=2):\n",
    "    grp = df.groupby('Date')\n",
    "    min_size = grp[\"Target\"].count().min()#交易最少的某一天\n",
    "    if min_size<2*portfolio_size:\n",
    "        portfolio_size=min_size//2\n",
    "        if portfolio_size<1:\n",
    "            return 0, None\n",
    "    buf = grp.apply(calc_spread_return_per_day, portfolio_size, toprank_weight_ratio)\n",
    "    sharpe_ratio = buf.mean() / buf.std()\n",
    "    return sharpe_ratio, buf\n",
    "\n",
    "def add_rank(df, col_name=\"pred\"):\n",
    "    df[\"Rank\"] = df.groupby(\"Date\")[col_name].rank(ascending=False, method=\"first\") - 1 \n",
    "    df[\"Rank\"] = df[\"Rank\"].astype(\"int\")\n",
    "    return df"
   ]
  },
  {
   "cell_type": "code",
   "execution_count": 7,
   "id": "787bc33a",
   "metadata": {
    "execution": {
     "iopub.execute_input": "2022-06-15T04:13:57.940256Z",
     "iopub.status.busy": "2022-06-15T04:13:57.939629Z",
     "iopub.status.idle": "2022-06-15T04:13:57.952900Z",
     "shell.execute_reply": "2022-06-15T04:13:57.952413Z",
     "shell.execute_reply.started": "2022-06-15T04:10:58.256307Z"
    },
    "papermill": {
     "duration": 0.04143,
     "end_time": "2022-06-15T04:13:57.953016",
     "exception": false,
     "start_time": "2022-06-15T04:13:57.911586",
     "status": "completed"
    },
    "tags": []
   },
   "outputs": [],
   "source": [
    "## By Yuike - https://www.kaggle.com/code/ikeppyo/examples-of-higher-scores-than-perfect-predictions\n",
    "# This function adjusts the predictions so that the daily spread return approaches a certain value.\n",
    "def adjuster(df):\n",
    "    def calc_pred(df, x, y, z):\n",
    "        return df['Target'].where(df['Target'].abs() < x, df['Target'] * y + np.sign(df['Target']) * z)\n",
    "\n",
    "    def objective(trial, df):\n",
    "        x = trial.suggest_uniform('x', 0, 0.2)\n",
    "        y = trial.suggest_uniform('y', 0, 0.05)\n",
    "        z = trial.suggest_uniform('z', 0, 1e-3)\n",
    "        df[\"Rank\"] = calc_pred(df, x, y, z).rank(ascending=False, method=\"first\") - 1 \n",
    "        return calc_spread_return_per_day(df, 200, 2)\n",
    "\n",
    "    def predictor_per_day(df):\n",
    "        study = optuna.create_study(direction='minimize', sampler=optuna.samplers.TPESampler(seed=SD))#5187\n",
    "        study.optimize(lambda trial: abs(objective(trial, df) - 3), 3)\n",
    "        return calc_pred(df, *study.best_params.values())\n",
    "    return df.groupby(\"Date\").apply(predictor_per_day).reset_index(level=0, drop=True)\n",
    "\n",
    "def _predictor_base(feature_df):\n",
    "    return model.predict(feature_df[feats])\n",
    "\n",
    "def _predictor_with_adjuster(feature_df):\n",
    "    df_pred = feature_df.copy()\n",
    "    df_pred[\"Target\"] = model.predict(feature_df[feats])\n",
    "    return adjuster(df_pred).values.T\n",
    "\n",
    "def get_model_type(train_x,target,m_type='lgb'): \n",
    "    train_X,valid_x,train_y,valid_y = train_test_split(train_x,target,test_size=0.2,random_state=5)  \n",
    "    print(train_X.shape,train_y.shape)\n",
    "    print(valid_x.shape,valid_y.shape)\n",
    "    if m_type == 'lgb':\n",
    "        model = lgb.LGBMRegressor(\n",
    "                                num_leaves=2**5-1, reg_alpha=0.25, reg_lambda=0.5, objective='rmse',\n",
    "                                max_depth=-1, learning_rate=0.05, min_child_samples=5, random_state=2019,\n",
    "                                n_estimators=2000, subsample=0.9, colsample_bytree=0.8,\n",
    "                                )\n",
    "        model.fit(train_X, train_y, \n",
    "              eval_set=[(train_X, train_y),(valid_x, valid_y)], \n",
    "            #   categorical_feature=cat_feats, \n",
    "              early_stopping_rounds=100, verbose=100)      \n",
    "    elif m_type == 'xgb':\n",
    "        model = xgb.XGBRegressor(\n",
    "                                max_depth=6 , learning_rate=0.05, n_estimators=2000, \n",
    "                                objective='reg:squarederror', tree_method = 'hist',subsample=0.9, \n",
    "                                colsample_bytree=0.9, min_child_samples=5,eval_metric = 'rmse',\n",
    "                                random_state=2019,\n",
    "                                reg_lambda = 0.5\n",
    "                                )\n",
    "\n",
    "        model.fit(train_X, train_y, \n",
    "              eval_set=[(train_X, train_y),(valid_x, valid_y)], \n",
    "              early_stopping_rounds=100, verbose=100)  \n",
    "    return model"
   ]
  },
  {
   "cell_type": "code",
   "execution_count": null,
   "id": "7a6dc0d4",
   "metadata": {
    "papermill": {
     "duration": 0.025326,
     "end_time": "2022-06-15T04:13:58.003860",
     "exception": false,
     "start_time": "2022-06-15T04:13:57.978534",
     "status": "completed"
    },
    "tags": []
   },
   "outputs": [],
   "source": []
  },
  {
   "cell_type": "code",
   "execution_count": 8,
   "id": "4932999d",
   "metadata": {
    "execution": {
     "iopub.execute_input": "2022-06-15T04:13:58.058803Z",
     "iopub.status.busy": "2022-06-15T04:13:58.058210Z",
     "iopub.status.idle": "2022-06-15T04:13:58.060900Z",
     "shell.execute_reply": "2022-06-15T04:13:58.060393Z",
     "shell.execute_reply.started": "2022-06-15T04:11:00.592464Z"
    },
    "papermill": {
     "duration": 0.031871,
     "end_time": "2022-06-15T04:13:58.061011",
     "exception": false,
     "start_time": "2022-06-15T04:13:58.029140",
     "status": "completed"
    },
    "tags": []
   },
   "outputs": [],
   "source": [
    "# np.random.seed(0)\n",
    "# feats = ['Open','High','Low','Close']\n",
    "# max_score = 0\n",
    "# max_depth = 0\n",
    "# #     model = DecisionTreeRegressor( max_depth=md ) # Controlling the overfit with max_depth parameter\n",
    "# #     model.fit(df_prices[feats],df_prices[\"Target\"])\n",
    "# model_name='lgb'\n",
    "# model=get_model_type(df_prices[feats],df_prices[\"Target\"],model_name)\n",
    "# predictor = _predictor_base\n",
    "# prices[\"pred\"] = predictor(prices)\n",
    "# score, buf = calc_spread_return_sharpe(add_rank(prices))\n",
    "# print(f'model_name={model_name} : Sharpe Ratio Score base -> {max_score}')"
   ]
  },
  {
   "cell_type": "code",
   "execution_count": null,
   "id": "816576db",
   "metadata": {
    "papermill": {
     "duration": 0.024943,
     "end_time": "2022-06-15T04:13:58.110954",
     "exception": false,
     "start_time": "2022-06-15T04:13:58.086011",
     "status": "completed"
    },
    "tags": []
   },
   "outputs": [],
   "source": []
  },
  {
   "cell_type": "code",
   "execution_count": 9,
   "id": "b5dd60db",
   "metadata": {
    "execution": {
     "iopub.execute_input": "2022-06-15T04:13:58.166325Z",
     "iopub.status.busy": "2022-06-15T04:13:58.165728Z",
     "iopub.status.idle": "2022-06-15T04:15:32.210056Z",
     "shell.execute_reply": "2022-06-15T04:15:32.210546Z",
     "shell.execute_reply.started": "2022-06-15T04:11:01.703268Z"
    },
    "papermill": {
     "duration": 94.074823,
     "end_time": "2022-06-15T04:15:32.210692",
     "exception": false,
     "start_time": "2022-06-15T04:13:58.135869",
     "status": "completed"
    },
    "tags": []
   },
   "outputs": [
    {
     "data": {
      "application/vnd.jupyter.widget-view+json": {
       "model_id": "c3da733b632f4f9db3c5e6ee0925a928",
       "version_major": 2,
       "version_minor": 0
      },
      "text/plain": [
       "  0%|          | 0/37 [00:00<?, ?it/s]"
      ]
     },
     "metadata": {},
     "output_type": "display_data"
    },
    {
     "name": "stdout",
     "output_type": "stream",
     "text": [
      "Max_deph=39 : Sharpe Ratio Score base -> 3.7184151763589814\n"
     ]
    }
   ],
   "source": [
    "np.random.seed(0)\n",
    "feats = ['Open','High','Low','Close']\n",
    "max_score = 0\n",
    "max_depth = 0\n",
    "for md in tqdm(range(3,40)):\n",
    "    model = DecisionTreeRegressor( max_depth=md ) # Controlling the overfit with max_depth parameter\n",
    "    model.fit(df_prices[feats],df_prices[\"Target\"])\n",
    "    predictor = _predictor_base\n",
    "    prices[\"pred\"] = predictor(prices)\n",
    "    score, buf = calc_spread_return_sharpe(add_rank(prices))\n",
    "    if score>max_score:\n",
    "        max_score = score\n",
    "        max_depth = md\n",
    "        \n",
    "model = DecisionTreeRegressor( max_depth=max_depth )\n",
    "model.fit(df_prices[feats],df_prices[\"Target\"])\n",
    "print(f'Max_deph={max_depth} : Sharpe Ratio Score base -> {max_score}')"
   ]
  },
  {
   "cell_type": "code",
   "execution_count": null,
   "id": "4375a2d5",
   "metadata": {
    "papermill": {
     "duration": 0.025843,
     "end_time": "2022-06-15T04:15:32.262863",
     "exception": false,
     "start_time": "2022-06-15T04:15:32.237020",
     "status": "completed"
    },
    "tags": []
   },
   "outputs": [],
   "source": []
  },
  {
   "cell_type": "code",
   "execution_count": null,
   "id": "17887a01",
   "metadata": {
    "papermill": {
     "duration": 0.025831,
     "end_time": "2022-06-15T04:15:32.314965",
     "exception": false,
     "start_time": "2022-06-15T04:15:32.289134",
     "status": "completed"
    },
    "tags": []
   },
   "outputs": [],
   "source": []
  },
  {
   "cell_type": "code",
   "execution_count": null,
   "id": "b4d30d21",
   "metadata": {
    "papermill": {
     "duration": 0.025907,
     "end_time": "2022-06-15T04:15:32.367036",
     "exception": false,
     "start_time": "2022-06-15T04:15:32.341129",
     "status": "completed"
    },
    "tags": []
   },
   "outputs": [],
   "source": []
  },
  {
   "cell_type": "code",
   "execution_count": null,
   "id": "af696e54",
   "metadata": {
    "papermill": {
     "duration": 0.02587,
     "end_time": "2022-06-15T04:15:32.419069",
     "exception": false,
     "start_time": "2022-06-15T04:15:32.393199",
     "status": "completed"
    },
    "tags": []
   },
   "outputs": [],
   "source": []
  },
  {
   "cell_type": "code",
   "execution_count": null,
   "id": "6f916fa7",
   "metadata": {
    "papermill": {
     "duration": 0.026048,
     "end_time": "2022-06-15T04:15:32.471508",
     "exception": false,
     "start_time": "2022-06-15T04:15:32.445460",
     "status": "completed"
    },
    "tags": []
   },
   "outputs": [],
   "source": []
  },
  {
   "cell_type": "code",
   "execution_count": 10,
   "id": "3cf6a724",
   "metadata": {
    "execution": {
     "iopub.execute_input": "2022-06-15T04:15:32.526292Z",
     "iopub.status.busy": "2022-06-15T04:15:32.525684Z",
     "iopub.status.idle": "2022-06-15T04:15:32.528059Z",
     "shell.execute_reply": "2022-06-15T04:15:32.528606Z",
     "shell.execute_reply.started": "2022-06-15T04:12:46.018780Z"
    },
    "papermill": {
     "duration": 0.031163,
     "end_time": "2022-06-15T04:15:32.528747",
     "exception": false,
     "start_time": "2022-06-15T04:15:32.497584",
     "status": "completed"
    },
    "tags": []
   },
   "outputs": [],
   "source": [
    "# # Controlling the Sharpe Ratio Score (≃3)\n",
    "# predictor = _predictor_with_adjuster\n",
    "# err = 1\n",
    "# maxSD = 3683\n",
    "# for SD in tqdm(range(maxSD,4000)):\n",
    "#     prices[\"pred\"] = predictor(prices)\n",
    "#     score, buf = calc_spread_return_sharpe(add_rank(prices))\n",
    "#     if abs(score-3)<=err and score<3:\n",
    "#         err=abs(score-3)\n",
    "#         maxSD = SD\n",
    "#         print(f'{maxSD} Sharpe Ratio Score with adjuster -> {score}')\n",
    "        \n",
    "# SD = maxSD"
   ]
  },
  {
   "cell_type": "code",
   "execution_count": 11,
   "id": "c6e3f28a",
   "metadata": {
    "_kg_hide-output": true,
    "execution": {
     "iopub.execute_input": "2022-06-15T04:15:32.587748Z",
     "iopub.status.busy": "2022-06-15T04:15:32.584266Z",
     "iopub.status.idle": "2022-06-15T04:15:32.868416Z",
     "shell.execute_reply": "2022-06-15T04:15:32.867634Z",
     "shell.execute_reply.started": "2022-06-15T04:12:46.025267Z"
    },
    "papermill": {
     "duration": 0.313157,
     "end_time": "2022-06-15T04:15:32.868561",
     "exception": false,
     "start_time": "2022-06-15T04:15:32.555404",
     "status": "completed"
    },
    "tags": []
   },
   "outputs": [
    {
     "name": "stdout",
     "output_type": "stream",
     "text": [
      "This version of the API is not optimized and should not be used to estimate the runtime of your code on the hidden test set.\n",
      "CPU times: user 173 ms, sys: 5.01 ms, total: 178 ms\n",
      "Wall time: 277 ms\n"
     ]
    }
   ],
   "source": [
    "%%time\n",
    "env = jpx_tokyo_market_prediction.make_env()\n",
    "iter_test = env.iter_test()\n",
    "\n",
    "for prices, options, financials, trades, secondary_prices, sample_prediction in iter_test:\n",
    "    prices = fill_nans(prices)\n",
    "    prices.loc[:,\"pred\"] = predictor(prices)\n",
    "    prices = add_rank(prices)\n",
    "    rank = prices.set_index('SecuritiesCode')['Rank'].to_dict()\n",
    "    sample_prediction['Rank'] = sample_prediction['SecuritiesCode'].map(rank)\n",
    "    env.predict(sample_prediction)"
   ]
  },
  {
   "cell_type": "code",
   "execution_count": null,
   "id": "c3b130f2",
   "metadata": {
    "papermill": {
     "duration": 0.026938,
     "end_time": "2022-06-15T04:15:32.923747",
     "exception": false,
     "start_time": "2022-06-15T04:15:32.896809",
     "status": "completed"
    },
    "tags": []
   },
   "outputs": [],
   "source": []
  }
 ],
 "metadata": {
  "kernelspec": {
   "display_name": "Python 3",
   "language": "python",
   "name": "python3"
  },
  "language_info": {
   "codemirror_mode": {
    "name": "ipython",
    "version": 3
   },
   "file_extension": ".py",
   "mimetype": "text/x-python",
   "name": "python",
   "nbconvert_exporter": "python",
   "pygments_lexer": "ipython3",
   "version": "3.7.12"
  },
  "papermill": {
   "default_parameters": {},
   "duration": 116.356598,
   "end_time": "2022-06-15T04:15:33.862566",
   "environment_variables": {},
   "exception": null,
   "input_path": "__notebook__.ipynb",
   "output_path": "__notebook__.ipynb",
   "parameters": {},
   "start_time": "2022-06-15T04:13:37.505968",
   "version": "2.3.3"
  },
  "widgets": {
   "application/vnd.jupyter.widget-state+json": {
    "state": {
     "0990f4202c1646bcaf5c933bfeb40f7f": {
      "model_module": "@jupyter-widgets/base",
      "model_module_version": "1.2.0",
      "model_name": "LayoutModel",
      "state": {
       "_model_module": "@jupyter-widgets/base",
       "_model_module_version": "1.2.0",
       "_model_name": "LayoutModel",
       "_view_count": null,
       "_view_module": "@jupyter-widgets/base",
       "_view_module_version": "1.2.0",
       "_view_name": "LayoutView",
       "align_content": null,
       "align_items": null,
       "align_self": null,
       "border": null,
       "bottom": null,
       "display": null,
       "flex": null,
       "flex_flow": null,
       "grid_area": null,
       "grid_auto_columns": null,
       "grid_auto_flow": null,
       "grid_auto_rows": null,
       "grid_column": null,
       "grid_gap": null,
       "grid_row": null,
       "grid_template_areas": null,
       "grid_template_columns": null,
       "grid_template_rows": null,
       "height": null,
       "justify_content": null,
       "justify_items": null,
       "left": null,
       "margin": null,
       "max_height": null,
       "max_width": null,
       "min_height": null,
       "min_width": null,
       "object_fit": null,
       "object_position": null,
       "order": null,
       "overflow": null,
       "overflow_x": null,
       "overflow_y": null,
       "padding": null,
       "right": null,
       "top": null,
       "visibility": null,
       "width": null
      }
     },
     "09da73233cdb43049bbd8ee008a2b53e": {
      "model_module": "@jupyter-widgets/controls",
      "model_module_version": "1.5.0",
      "model_name": "HTMLModel",
      "state": {
       "_dom_classes": [],
       "_model_module": "@jupyter-widgets/controls",
       "_model_module_version": "1.5.0",
       "_model_name": "HTMLModel",
       "_view_count": null,
       "_view_module": "@jupyter-widgets/controls",
       "_view_module_version": "1.5.0",
       "_view_name": "HTMLView",
       "description": "",
       "description_tooltip": null,
       "layout": "IPY_MODEL_d8ff48d9b04040a1ae670b68c87171e9",
       "placeholder": "​",
       "style": "IPY_MODEL_1b2d7bf76e344f3fb65ed4a550f9c576",
       "value": " 37/37 [01:30&lt;00:00,  3.74s/it]"
      }
     },
     "1b2d7bf76e344f3fb65ed4a550f9c576": {
      "model_module": "@jupyter-widgets/controls",
      "model_module_version": "1.5.0",
      "model_name": "DescriptionStyleModel",
      "state": {
       "_model_module": "@jupyter-widgets/controls",
       "_model_module_version": "1.5.0",
       "_model_name": "DescriptionStyleModel",
       "_view_count": null,
       "_view_module": "@jupyter-widgets/base",
       "_view_module_version": "1.2.0",
       "_view_name": "StyleView",
       "description_width": ""
      }
     },
     "65cfac9d6ccc4c00b8d5b164f264e892": {
      "model_module": "@jupyter-widgets/controls",
      "model_module_version": "1.5.0",
      "model_name": "DescriptionStyleModel",
      "state": {
       "_model_module": "@jupyter-widgets/controls",
       "_model_module_version": "1.5.0",
       "_model_name": "DescriptionStyleModel",
       "_view_count": null,
       "_view_module": "@jupyter-widgets/base",
       "_view_module_version": "1.2.0",
       "_view_name": "StyleView",
       "description_width": ""
      }
     },
     "9b22b62fceb34223929cbdc5475bab9f": {
      "model_module": "@jupyter-widgets/controls",
      "model_module_version": "1.5.0",
      "model_name": "HTMLModel",
      "state": {
       "_dom_classes": [],
       "_model_module": "@jupyter-widgets/controls",
       "_model_module_version": "1.5.0",
       "_model_name": "HTMLModel",
       "_view_count": null,
       "_view_module": "@jupyter-widgets/controls",
       "_view_module_version": "1.5.0",
       "_view_name": "HTMLView",
       "description": "",
       "description_tooltip": null,
       "layout": "IPY_MODEL_b67308e40605498eabaae5abb4716c1c",
       "placeholder": "​",
       "style": "IPY_MODEL_65cfac9d6ccc4c00b8d5b164f264e892",
       "value": "100%"
      }
     },
     "b67308e40605498eabaae5abb4716c1c": {
      "model_module": "@jupyter-widgets/base",
      "model_module_version": "1.2.0",
      "model_name": "LayoutModel",
      "state": {
       "_model_module": "@jupyter-widgets/base",
       "_model_module_version": "1.2.0",
       "_model_name": "LayoutModel",
       "_view_count": null,
       "_view_module": "@jupyter-widgets/base",
       "_view_module_version": "1.2.0",
       "_view_name": "LayoutView",
       "align_content": null,
       "align_items": null,
       "align_self": null,
       "border": null,
       "bottom": null,
       "display": null,
       "flex": null,
       "flex_flow": null,
       "grid_area": null,
       "grid_auto_columns": null,
       "grid_auto_flow": null,
       "grid_auto_rows": null,
       "grid_column": null,
       "grid_gap": null,
       "grid_row": null,
       "grid_template_areas": null,
       "grid_template_columns": null,
       "grid_template_rows": null,
       "height": null,
       "justify_content": null,
       "justify_items": null,
       "left": null,
       "margin": null,
       "max_height": null,
       "max_width": null,
       "min_height": null,
       "min_width": null,
       "object_fit": null,
       "object_position": null,
       "order": null,
       "overflow": null,
       "overflow_x": null,
       "overflow_y": null,
       "padding": null,
       "right": null,
       "top": null,
       "visibility": null,
       "width": null
      }
     },
     "ba207ca8f7d5410c95a2a1ff4837d0f9": {
      "model_module": "@jupyter-widgets/controls",
      "model_module_version": "1.5.0",
      "model_name": "ProgressStyleModel",
      "state": {
       "_model_module": "@jupyter-widgets/controls",
       "_model_module_version": "1.5.0",
       "_model_name": "ProgressStyleModel",
       "_view_count": null,
       "_view_module": "@jupyter-widgets/base",
       "_view_module_version": "1.2.0",
       "_view_name": "StyleView",
       "bar_color": null,
       "description_width": ""
      }
     },
     "c3da733b632f4f9db3c5e6ee0925a928": {
      "model_module": "@jupyter-widgets/controls",
      "model_module_version": "1.5.0",
      "model_name": "HBoxModel",
      "state": {
       "_dom_classes": [],
       "_model_module": "@jupyter-widgets/controls",
       "_model_module_version": "1.5.0",
       "_model_name": "HBoxModel",
       "_view_count": null,
       "_view_module": "@jupyter-widgets/controls",
       "_view_module_version": "1.5.0",
       "_view_name": "HBoxView",
       "box_style": "",
       "children": [
        "IPY_MODEL_9b22b62fceb34223929cbdc5475bab9f",
        "IPY_MODEL_ef48ab7e0ef1426c82f2624e890d3fc3",
        "IPY_MODEL_09da73233cdb43049bbd8ee008a2b53e"
       ],
       "layout": "IPY_MODEL_d7540ab63f1846d5aa652924f9e960ee"
      }
     },
     "d7540ab63f1846d5aa652924f9e960ee": {
      "model_module": "@jupyter-widgets/base",
      "model_module_version": "1.2.0",
      "model_name": "LayoutModel",
      "state": {
       "_model_module": "@jupyter-widgets/base",
       "_model_module_version": "1.2.0",
       "_model_name": "LayoutModel",
       "_view_count": null,
       "_view_module": "@jupyter-widgets/base",
       "_view_module_version": "1.2.0",
       "_view_name": "LayoutView",
       "align_content": null,
       "align_items": null,
       "align_self": null,
       "border": null,
       "bottom": null,
       "display": null,
       "flex": null,
       "flex_flow": null,
       "grid_area": null,
       "grid_auto_columns": null,
       "grid_auto_flow": null,
       "grid_auto_rows": null,
       "grid_column": null,
       "grid_gap": null,
       "grid_row": null,
       "grid_template_areas": null,
       "grid_template_columns": null,
       "grid_template_rows": null,
       "height": null,
       "justify_content": null,
       "justify_items": null,
       "left": null,
       "margin": null,
       "max_height": null,
       "max_width": null,
       "min_height": null,
       "min_width": null,
       "object_fit": null,
       "object_position": null,
       "order": null,
       "overflow": null,
       "overflow_x": null,
       "overflow_y": null,
       "padding": null,
       "right": null,
       "top": null,
       "visibility": null,
       "width": null
      }
     },
     "d8ff48d9b04040a1ae670b68c87171e9": {
      "model_module": "@jupyter-widgets/base",
      "model_module_version": "1.2.0",
      "model_name": "LayoutModel",
      "state": {
       "_model_module": "@jupyter-widgets/base",
       "_model_module_version": "1.2.0",
       "_model_name": "LayoutModel",
       "_view_count": null,
       "_view_module": "@jupyter-widgets/base",
       "_view_module_version": "1.2.0",
       "_view_name": "LayoutView",
       "align_content": null,
       "align_items": null,
       "align_self": null,
       "border": null,
       "bottom": null,
       "display": null,
       "flex": null,
       "flex_flow": null,
       "grid_area": null,
       "grid_auto_columns": null,
       "grid_auto_flow": null,
       "grid_auto_rows": null,
       "grid_column": null,
       "grid_gap": null,
       "grid_row": null,
       "grid_template_areas": null,
       "grid_template_columns": null,
       "grid_template_rows": null,
       "height": null,
       "justify_content": null,
       "justify_items": null,
       "left": null,
       "margin": null,
       "max_height": null,
       "max_width": null,
       "min_height": null,
       "min_width": null,
       "object_fit": null,
       "object_position": null,
       "order": null,
       "overflow": null,
       "overflow_x": null,
       "overflow_y": null,
       "padding": null,
       "right": null,
       "top": null,
       "visibility": null,
       "width": null
      }
     },
     "ef48ab7e0ef1426c82f2624e890d3fc3": {
      "model_module": "@jupyter-widgets/controls",
      "model_module_version": "1.5.0",
      "model_name": "FloatProgressModel",
      "state": {
       "_dom_classes": [],
       "_model_module": "@jupyter-widgets/controls",
       "_model_module_version": "1.5.0",
       "_model_name": "FloatProgressModel",
       "_view_count": null,
       "_view_module": "@jupyter-widgets/controls",
       "_view_module_version": "1.5.0",
       "_view_name": "ProgressView",
       "bar_style": "success",
       "description": "",
       "description_tooltip": null,
       "layout": "IPY_MODEL_0990f4202c1646bcaf5c933bfeb40f7f",
       "max": 37.0,
       "min": 0.0,
       "orientation": "horizontal",
       "style": "IPY_MODEL_ba207ca8f7d5410c95a2a1ff4837d0f9",
       "value": 37.0
      }
     }
    },
    "version_major": 2,
    "version_minor": 0
   }
  }
 },
 "nbformat": 4,
 "nbformat_minor": 5
}
