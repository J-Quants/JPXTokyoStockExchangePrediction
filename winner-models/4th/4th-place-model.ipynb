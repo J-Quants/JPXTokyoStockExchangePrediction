{
 "cells": [
  {
   "cell_type": "markdown",
   "id": "c3db4606",
   "metadata": {
    "papermill": {
     "duration": 0.017844,
     "end_time": "2022-07-05T05:20:37.838021",
     "exception": false,
     "start_time": "2022-07-05T05:20:37.820177",
     "status": "completed"
    },
    "tags": []
   },
   "source": [
    "# Overview\n",
    "\n",
    "- 直近のReturnの逆順にRank付けするモデル\n",
    "- `ExpectedDividend`が入っている場合はマイナスになる可能性が高いので、下位にするルールを入れる\n"
   ]
  },
  {
   "cell_type": "markdown",
   "id": "8ba3cd1a",
   "metadata": {
    "papermill": {
     "duration": 0.015006,
     "end_time": "2022-07-05T05:20:37.869231",
     "exception": false,
     "start_time": "2022-07-05T05:20:37.854225",
     "status": "completed"
    },
    "tags": []
   },
   "source": [
    "---"
   ]
  },
  {
   "cell_type": "code",
   "execution_count": 1,
   "id": "978db6ac",
   "metadata": {
    "execution": {
     "iopub.execute_input": "2022-07-05T05:20:37.914798Z",
     "iopub.status.busy": "2022-07-05T05:20:37.913809Z",
     "iopub.status.idle": "2022-07-05T05:20:37.925608Z",
     "shell.execute_reply": "2022-07-05T05:20:37.926751Z",
     "shell.execute_reply.started": "2022-07-05T05:16:04.063112Z"
    },
    "papermill": {
     "duration": 0.041126,
     "end_time": "2022-07-05T05:20:37.927320",
     "exception": false,
     "start_time": "2022-07-05T05:20:37.886194",
     "status": "completed"
    },
    "tags": []
   },
   "outputs": [],
   "source": [
    "# libraries\n",
    "import os\n",
    "from decimal import ROUND_HALF_UP, Decimal#float型の計算を正確に行うため\n",
    "\n",
    "import numpy as np\n",
    "import pandas as pd\n",
    "from tqdm import tqdm#処理状況の可視化\n",
    "import warnings\n",
    "\n",
    "warnings.filterwarnings('ignore')"
   ]
  },
  {
   "cell_type": "code",
   "execution_count": 2,
   "id": "dfdbcb8b",
   "metadata": {
    "execution": {
     "iopub.execute_input": "2022-07-05T05:20:37.965361Z",
     "iopub.status.busy": "2022-07-05T05:20:37.964397Z",
     "iopub.status.idle": "2022-07-05T05:20:37.966971Z",
     "shell.execute_reply": "2022-07-05T05:20:37.966393Z",
     "shell.execute_reply.started": "2022-07-05T05:16:05.446500Z"
    },
    "papermill": {
     "duration": 0.023535,
     "end_time": "2022-07-05T05:20:37.967135",
     "exception": false,
     "start_time": "2022-07-05T05:20:37.943600",
     "status": "completed"
    },
    "tags": []
   },
   "outputs": [],
   "source": [
    "# set base_dir to load data\n",
    "base_dir = \"../input/jpx-tokyo-stock-exchange-prediction\"\n",
    "\n",
    "train_files_dir = f\"{base_dir}/train_files\"\n",
    "supplemental_files_dir = f\"{base_dir}/supplemental_files\""
   ]
  },
  {
   "cell_type": "markdown",
   "id": "5ffee4da",
   "metadata": {
    "papermill": {
     "duration": 0.014971,
     "end_time": "2022-07-05T05:20:37.997754",
     "exception": false,
     "start_time": "2022-07-05T05:20:37.982783",
     "status": "completed"
    },
    "tags": []
   },
   "source": [
    "---"
   ]
  },
  {
   "cell_type": "markdown",
   "id": "0bb29864",
   "metadata": {
    "papermill": {
     "duration": 0.015359,
     "end_time": "2022-07-05T05:20:38.031646",
     "exception": false,
     "start_time": "2022-07-05T05:20:38.016287",
     "status": "completed"
    },
    "tags": []
   },
   "source": [
    "# functions"
   ]
  },
  {
   "cell_type": "code",
   "execution_count": 3,
   "id": "7c3f60c2",
   "metadata": {
    "execution": {
     "iopub.execute_input": "2022-07-05T05:20:38.068667Z",
     "iopub.status.busy": "2022-07-05T05:20:38.067698Z",
     "iopub.status.idle": "2022-07-05T05:20:38.078997Z",
     "shell.execute_reply": "2022-07-05T05:20:38.079603Z",
     "shell.execute_reply.started": "2022-07-05T05:16:08.389315Z"
    },
    "papermill": {
     "duration": 0.032485,
     "end_time": "2022-07-05T05:20:38.079807",
     "exception": false,
     "start_time": "2022-07-05T05:20:38.047322",
     "status": "completed"
    },
    "tags": []
   },
   "outputs": [],
   "source": [
    "#分割・逆分割による過去の価格差を小さくするために、AdjustmentFactorの値を用いて、株価を修正する\n",
    "def adjust_price(price):\n",
    "    \"\"\"\n",
    "    Args:\n",
    "        price (pd.DataFrame)  : pd.DataFrame include stock_price\n",
    "    Returns:\n",
    "        price DataFrame (pd.DataFrame): stock_price with generated AdjustedClose\n",
    "    \"\"\"\n",
    "    # transform Date column into datetime\n",
    "    price.loc[: ,\"Date\"] = pd.to_datetime(price.loc[: ,\"Date\"], format=\"%Y-%m-%d\")\n",
    "\n",
    "    def generate_adjusted_close(df):\n",
    "        \"\"\"\n",
    "        Args:\n",
    "            df (pd.DataFrame)  : stock_price for a single SecuritiesCode\n",
    "        Returns:\n",
    "            df (pd.DataFrame): stock_price with AdjustedClose for a single SecuritiesCode\n",
    "        \"\"\"\n",
    "        # sort data to generate CumulativeAdjustmentFactor\n",
    "        df = df.sort_values(\"Date\", ascending=False)#降順(最新のものが先頭)\n",
    "        # generate CumulativeAdjustmentFactor\n",
    "        df.loc[:, \"CumulativeAdjustmentFactor\"] = df[\"AdjustmentFactor\"].cumprod()#cumprodは累積積を求める関数\n",
    "        # generate AdjustedClose\n",
    "        df.loc[:, \"AdjustedClose\"] = (\n",
    "            df[\"CumulativeAdjustmentFactor\"] * df[\"Close\"]\n",
    "        ).map(lambda x: float(\n",
    "            Decimal(str(x)).quantize(Decimal('0.1'), rounding=ROUND_HALF_UP)#四捨五入\n",
    "        ))\n",
    "        # reverse order\n",
    "        df = df.sort_values(\"Date\")#昇順に戻す\n",
    "        # to fill AdjustedClose, replace 0 into np.nan\n",
    "        df.loc[df[\"AdjustedClose\"] == 0, \"AdjustedClose\"] = np.nan\n",
    "        # forward fill AdjustedClose\n",
    "        df.loc[:, \"AdjustedClose\"] = df.loc[:, \"AdjustedClose\"].ffill()#ffill:前(上)の値に置換\n",
    "        return df\n",
    "\n",
    "    # generate AdjustedClose\n",
    "    price = price.sort_values([\"SecuritiesCode\", \"Date\"])\n",
    "    price = price.groupby(\"SecuritiesCode\").apply(generate_adjusted_close).reset_index(drop=True)\n",
    "\n",
    "    price.set_index(\"Date\", inplace=True)\n",
    "    return price"
   ]
  },
  {
   "cell_type": "code",
   "execution_count": 4,
   "id": "beb392c8",
   "metadata": {
    "execution": {
     "iopub.execute_input": "2022-07-05T05:20:38.114601Z",
     "iopub.status.busy": "2022-07-05T05:20:38.113816Z",
     "iopub.status.idle": "2022-07-05T05:20:38.120736Z",
     "shell.execute_reply": "2022-07-05T05:20:38.121378Z",
     "shell.execute_reply.started": "2022-07-05T05:16:09.376813Z"
    },
    "papermill": {
     "duration": 0.026349,
     "end_time": "2022-07-05T05:20:38.121583",
     "exception": false,
     "start_time": "2022-07-05T05:20:38.095234",
     "status": "completed"
    },
    "tags": []
   },
   "outputs": [],
   "source": [
    "def get_features_for_predict(price, code):\n",
    "    \"\"\"\n",
    "    Args:\n",
    "        price (pd.DataFrame)  : pd.DataFrame include stock_price\n",
    "        code (int)  : A local code for a listed company\n",
    "    Returns:\n",
    "        feature DataFrame (pd.DataFrame)\n",
    "    \"\"\"\n",
    "    close_col = \"AdjustedClose\"\n",
    "    feats = price.loc[price[\"SecuritiesCode\"] == code, [\"SecuritiesCode\", close_col, \"ExpectedDividend\"]].copy()\n",
    "\n",
    "    # calculate return using AdjustedClose\n",
    "    feats[\"return_1day\"] = feats[close_col].pct_change(1)\n",
    "    \n",
    "    # ExpectedDividend\n",
    "    feats[\"ExpectedDividend\"] = feats[\"ExpectedDividend\"].mask(feats[\"ExpectedDividend\"] > 0, 1)\n",
    "\n",
    "    # filling data for nan and inf\n",
    "    feats = feats.fillna(0)\n",
    "    feats = feats.replace([np.inf, -np.inf], 0)\n",
    "    # drop AdjustedClose column\n",
    "    feats = feats.drop([close_col], axis=1)\n",
    "\n",
    "    return feats"
   ]
  },
  {
   "cell_type": "markdown",
   "id": "04966c12",
   "metadata": {
    "papermill": {
     "duration": 0.015199,
     "end_time": "2022-07-05T05:20:38.152645",
     "exception": false,
     "start_time": "2022-07-05T05:20:38.137446",
     "status": "completed"
    },
    "tags": []
   },
   "source": [
    "---"
   ]
  },
  {
   "cell_type": "markdown",
   "id": "13615035",
   "metadata": {
    "papermill": {
     "duration": 0.014772,
     "end_time": "2022-07-05T05:20:38.183445",
     "exception": false,
     "start_time": "2022-07-05T05:20:38.168673",
     "status": "completed"
    },
    "tags": []
   },
   "source": [
    "# Submit"
   ]
  },
  {
   "cell_type": "code",
   "execution_count": 5,
   "id": "42bf3f96",
   "metadata": {
    "execution": {
     "iopub.execute_input": "2022-07-05T05:20:38.218000Z",
     "iopub.status.busy": "2022-07-05T05:20:38.217217Z",
     "iopub.status.idle": "2022-07-05T05:20:47.406775Z",
     "shell.execute_reply": "2022-07-05T05:20:47.406077Z",
     "shell.execute_reply.started": "2022-07-05T05:16:14.925396Z"
    },
    "papermill": {
     "duration": 9.208332,
     "end_time": "2022-07-05T05:20:47.406978",
     "exception": false,
     "start_time": "2022-07-05T05:20:38.198646",
     "status": "completed"
    },
    "tags": []
   },
   "outputs": [],
   "source": [
    "# load stock price data\n",
    "df_price_raw = pd.read_csv(f\"{train_files_dir}/stock_prices.csv\")\n",
    "price_cols = [\n",
    "    \"Date\",\n",
    "    \"SecuritiesCode\",\n",
    "    \"Close\",\n",
    "    \"AdjustmentFactor\",\n",
    "    \"ExpectedDividend\"\n",
    "]\n",
    "df_price_raw = df_price_raw[price_cols]\n",
    "\n",
    "# forecasting phase leaderboard:\n",
    "df_price_supplemental = pd.read_csv(f\"{supplemental_files_dir}/stock_prices.csv\")\n",
    "df_price_supplemental = df_price_supplemental[price_cols]\n",
    "df_price_raw = pd.concat([df_price_raw, df_price_supplemental])\n",
    "\n",
    "# filter data to reduce culculation cost \n",
    "df_price_raw = df_price_raw.loc[df_price_raw[\"Date\"] >= \"2022-07-01\"]"
   ]
  },
  {
   "cell_type": "code",
   "execution_count": 6,
   "id": "73ffdd8d",
   "metadata": {
    "execution": {
     "iopub.execute_input": "2022-07-05T05:20:47.444799Z",
     "iopub.status.busy": "2022-07-05T05:20:47.443935Z",
     "iopub.status.idle": "2022-07-05T05:20:47.464572Z",
     "shell.execute_reply": "2022-07-05T05:20:47.465954Z",
     "shell.execute_reply.started": "2022-07-05T05:16:29.418028Z"
    },
    "papermill": {
     "duration": 0.043838,
     "end_time": "2022-07-05T05:20:47.466196",
     "exception": false,
     "start_time": "2022-07-05T05:20:47.422358",
     "status": "completed"
    },
    "tags": []
   },
   "outputs": [],
   "source": [
    "# load Time Series API\n",
    "import jpx_tokyo_market_prediction\n",
    "# make Time Series API environment (this function can be called only once in a session)\n",
    "env = jpx_tokyo_market_prediction.make_env()\n",
    "# get iterator to fetch data day by day\n",
    "iter_test = env.iter_test()"
   ]
  },
  {
   "cell_type": "code",
   "execution_count": 7,
   "id": "90a48fcc",
   "metadata": {
    "execution": {
     "iopub.execute_input": "2022-07-05T05:20:47.512402Z",
     "iopub.status.busy": "2022-07-05T05:20:47.511478Z",
     "iopub.status.idle": "2022-07-05T05:21:22.595672Z",
     "shell.execute_reply": "2022-07-05T05:21:22.594867Z",
     "shell.execute_reply.started": "2022-07-05T05:16:30.442764Z"
    },
    "papermill": {
     "duration": 35.113927,
     "end_time": "2022-07-05T05:21:22.595866",
     "exception": false,
     "start_time": "2022-07-05T05:20:47.481939",
     "status": "completed"
    },
    "tags": []
   },
   "outputs": [
    {
     "name": "stdout",
     "output_type": "stream",
     "text": [
      "This version of the API is not optimized and should not be used to estimate the runtime of your code on the hidden test set.\n",
      "current_date: 2021-12-06, sample_prediction_date: 2021-12-06\n",
      "current_date: 2021-12-07, sample_prediction_date: 2021-12-07\n"
     ]
    }
   ],
   "source": [
    "counter = 0\n",
    "# fetch data day by day\n",
    "for (prices, options, financials, trades, secondary_prices, sample_prediction) in iter_test:\n",
    "    current_date = prices[\"Date\"].iloc[0]\n",
    "    sample_prediction_date = sample_prediction[\"Date\"].iloc[0]\n",
    "    print(f\"current_date: {current_date}, sample_prediction_date: {sample_prediction_date}\")\n",
    "\n",
    "    if counter == 0:\n",
    "        # to avoid data leakage\n",
    "        df_price_raw = df_price_raw.loc[df_price_raw[\"Date\"] < current_date]#current_date以前のデータにする\n",
    "\n",
    "    # to generate AdjustedClose, increment price data\n",
    "    df_price_raw = pd.concat([df_price_raw, prices[price_cols]])\n",
    "    # generate AdjustedClose\n",
    "    df_price = adjust_price(df_price_raw)\n",
    "\n",
    "    # get target SecuritiesCodes\n",
    "    codes = sorted(prices[\"SecuritiesCode\"].unique())\n",
    "\n",
    "    # generate feature\n",
    "    feature = pd.concat([get_features_for_predict(df_price, code) for code in codes])\n",
    "    # filter feature for this iteration\n",
    "    feature = feature.loc[feature.index == current_date]\n",
    "\n",
    "    # prediction\n",
    "    feature.loc[:, \"predict\"] = feature[\"return_1day\"] + feature[\"ExpectedDividend\"]*100\n",
    "\n",
    "    # set rank by predict\n",
    "    feature = feature.sort_values(\"predict\", ascending=True).drop_duplicates(subset=['SecuritiesCode'])\n",
    "    feature.loc[:, \"Rank\"] = np.arange(len(feature))\n",
    "    feature_map = feature.set_index('SecuritiesCode')['Rank'].to_dict()\n",
    "    sample_prediction['Rank'] = sample_prediction['SecuritiesCode'].map(feature_map)\n",
    "\n",
    "    # check Rank\n",
    "    assert sample_prediction[\"Rank\"].notna().all()\n",
    "    assert sample_prediction[\"Rank\"].min() == 0\n",
    "    assert sample_prediction[\"Rank\"].max() == len(sample_prediction[\"Rank\"]) - 1\n",
    "\n",
    "    # register your predictions\n",
    "    env.predict(sample_prediction)\n",
    "    counter += 1"
   ]
  },
  {
   "cell_type": "code",
   "execution_count": 8,
   "id": "94510d02",
   "metadata": {
    "execution": {
     "iopub.execute_input": "2022-07-05T05:21:22.636753Z",
     "iopub.status.busy": "2022-07-05T05:21:22.635987Z",
     "iopub.status.idle": "2022-07-05T05:21:23.427353Z",
     "shell.execute_reply": "2022-07-05T05:21:23.427940Z",
     "shell.execute_reply.started": "2022-07-05T05:17:14.124916Z"
    },
    "papermill": {
     "duration": 0.814963,
     "end_time": "2022-07-05T05:21:23.428146",
     "exception": false,
     "start_time": "2022-07-05T05:21:22.613183",
     "status": "completed"
    },
    "tags": []
   },
   "outputs": [
    {
     "name": "stdout",
     "output_type": "stream",
     "text": [
      "Date,SecuritiesCode,Rank\r\n",
      "2021-12-06,1301,0\r\n",
      "2021-12-06,1332,1339\r\n",
      "2021-12-06,1333,1338\r\n",
      "2021-12-06,1375,1337\r\n",
      "2021-12-06,1376,1336\r\n",
      "2021-12-06,1377,1335\r\n",
      "2021-12-06,1379,1334\r\n",
      "2021-12-06,1381,1333\r\n",
      "2021-12-06,1407,1332\r\n"
     ]
    }
   ],
   "source": [
    "! head submission.csv"
   ]
  },
  {
   "cell_type": "code",
   "execution_count": 9,
   "id": "7ee0f4fb",
   "metadata": {
    "execution": {
     "iopub.execute_input": "2022-07-05T05:21:23.471890Z",
     "iopub.status.busy": "2022-07-05T05:21:23.470761Z",
     "iopub.status.idle": "2022-07-05T05:21:24.241811Z",
     "shell.execute_reply": "2022-07-05T05:21:24.241200Z",
     "shell.execute_reply.started": "2022-07-05T05:17:24.243295Z"
    },
    "papermill": {
     "duration": 0.794251,
     "end_time": "2022-07-05T05:21:24.242000",
     "exception": false,
     "start_time": "2022-07-05T05:21:23.447749",
     "status": "completed"
    },
    "tags": []
   },
   "outputs": [
    {
     "name": "stdout",
     "output_type": "stream",
     "text": [
      "2021-12-07,9982,472\r\n",
      "2021-12-07,9983,109\r\n",
      "2021-12-07,9984,1980\r\n",
      "2021-12-07,9987,960\r\n",
      "2021-12-07,9989,329\r\n",
      "2021-12-07,9990,1419\r\n",
      "2021-12-07,9991,881\r\n",
      "2021-12-07,9993,56\r\n",
      "2021-12-07,9994,233\r\n",
      "2021-12-07,9997,528\r\n"
     ]
    }
   ],
   "source": [
    "! tail submission.csv"
   ]
  },
  {
   "cell_type": "code",
   "execution_count": null,
   "id": "42777ef4",
   "metadata": {
    "papermill": {
     "duration": 0.01671,
     "end_time": "2022-07-05T05:21:24.277462",
     "exception": false,
     "start_time": "2022-07-05T05:21:24.260752",
     "status": "completed"
    },
    "tags": []
   },
   "outputs": [],
   "source": []
  }
 ],
 "metadata": {
  "kernelspec": {
   "display_name": "Python 3",
   "language": "python",
   "name": "python3"
  },
  "language_info": {
   "codemirror_mode": {
    "name": "ipython",
    "version": 3
   },
   "file_extension": ".py",
   "mimetype": "text/x-python",
   "name": "python",
   "nbconvert_exporter": "python",
   "pygments_lexer": "ipython3",
   "version": "3.7.12"
  },
  "papermill": {
   "default_parameters": {},
   "duration": 59.335855,
   "end_time": "2022-07-05T05:21:25.009373",
   "environment_variables": {},
   "exception": null,
   "input_path": "__notebook__.ipynb",
   "output_path": "__notebook__.ipynb",
   "parameters": {},
   "start_time": "2022-07-05T05:20:25.673518",
   "version": "2.3.3"
  }
 },
 "nbformat": 4,
 "nbformat_minor": 5
}
