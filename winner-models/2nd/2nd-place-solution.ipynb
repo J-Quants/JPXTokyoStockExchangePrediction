{
 "cells": [
  {
   "cell_type": "code",
   "execution_count": 1,
   "id": "eaee0203",
   "metadata": {
    "execution": {
     "iopub.execute_input": "2022-10-12T19:32:55.074771Z",
     "iopub.status.busy": "2022-10-12T19:32:55.074026Z",
     "iopub.status.idle": "2022-10-12T19:32:57.359337Z",
     "shell.execute_reply": "2022-10-12T19:32:57.358216Z"
    },
    "papermill": {
     "duration": 2.302994,
     "end_time": "2022-10-12T19:32:57.362121",
     "exception": false,
     "start_time": "2022-10-12T19:32:55.059127",
     "status": "completed"
    },
    "tags": []
   },
   "outputs": [
    {
     "data": {
      "text/html": [
       "<style type='text/css'>\n",
       ".datatable table.frame { margin-bottom: 0; }\n",
       ".datatable table.frame thead { border-bottom: none; }\n",
       ".datatable table.frame tr.coltypes td {  color: #FFFFFF;  line-height: 6px;  padding: 0 0.5em;}\n",
       ".datatable .bool    { background: #DDDD99; }\n",
       ".datatable .object  { background: #565656; }\n",
       ".datatable .int     { background: #5D9E5D; }\n",
       ".datatable .float   { background: #4040CC; }\n",
       ".datatable .str     { background: #CC4040; }\n",
       ".datatable .time    { background: #40CC40; }\n",
       ".datatable .row_index {  background: var(--jp-border-color3);  border-right: 1px solid var(--jp-border-color0);  color: var(--jp-ui-font-color3);  font-size: 9px;}\n",
       ".datatable .frame tbody td { text-align: left; }\n",
       ".datatable .frame tr.coltypes .row_index {  background: var(--jp-border-color0);}\n",
       ".datatable th:nth-child(2) { padding-left: 12px; }\n",
       ".datatable .hellipsis {  color: var(--jp-cell-editor-border-color);}\n",
       ".datatable .vellipsis {  background: var(--jp-layout-color0);  color: var(--jp-cell-editor-border-color);}\n",
       ".datatable .na {  color: var(--jp-cell-editor-border-color);  font-size: 80%;}\n",
       ".datatable .sp {  opacity: 0.25;}\n",
       ".datatable .footer { font-size: 9px; }\n",
       ".datatable .frame_dimensions {  background: var(--jp-border-color3);  border-top: 1px solid var(--jp-border-color0);  color: var(--jp-ui-font-color3);  display: inline-block;  opacity: 0.6;  padding: 1px 10px 1px 5px;}\n",
       "</style>\n"
      ],
      "text/plain": [
       "<IPython.core.display.HTML object>"
      ]
     },
     "metadata": {},
     "output_type": "display_data"
    }
   ],
   "source": [
    "import numpy as np\n",
    "import pandas as pd\n",
    "import math\n",
    "import os\n",
    "from scipy import stats\n",
    "import lightgbm as lgb\n",
    "import jpx_tokyo_market_prediction\n",
    "import xgboost as xgb\n",
    "import matplotlib.pyplot as plt\n",
    "from sklearn.linear_model import RidgeCV, LassoCV\n",
    "from sklearn.model_selection import cross_val_score, KFold, TimeSeriesSplit, GroupKFold, StratifiedKFold\n",
    "from sklearn.linear_model import LogisticRegression\n",
    "import joblib\n",
    "from sklearn.metrics import mean_squared_error\n",
    "\n",
    "import warnings\n",
    "warnings.filterwarnings('ignore')"
   ]
  },
  {
   "cell_type": "code",
   "execution_count": 2,
   "id": "6354e19d",
   "metadata": {
    "execution": {
     "iopub.execute_input": "2022-10-12T19:32:57.388572Z",
     "iopub.status.busy": "2022-10-12T19:32:57.388289Z",
     "iopub.status.idle": "2022-10-12T19:32:57.392907Z",
     "shell.execute_reply": "2022-10-12T19:32:57.392017Z"
    },
    "papermill": {
     "duration": 0.019574,
     "end_time": "2022-10-12T19:32:57.394980",
     "exception": false,
     "start_time": "2022-10-12T19:32:57.375406",
     "status": "completed"
    },
    "tags": []
   },
   "outputs": [],
   "source": [
    "def seed_everything(seed):\n",
    "    os.environ['PYTHONHASHSEED'] = str(seed)\n",
    "    np.random.seed(seed)\n",
    "\n",
    "SEED=42\n",
    "seed_everything(SEED)"
   ]
  },
  {
   "cell_type": "code",
   "execution_count": 3,
   "id": "8e56fc90",
   "metadata": {
    "execution": {
     "iopub.execute_input": "2022-10-12T19:32:57.420766Z",
     "iopub.status.busy": "2022-10-12T19:32:57.419242Z",
     "iopub.status.idle": "2022-10-12T19:33:04.540465Z",
     "shell.execute_reply": "2022-10-12T19:33:04.539438Z"
    },
    "papermill": {
     "duration": 7.136475,
     "end_time": "2022-10-12T19:33:04.543015",
     "exception": false,
     "start_time": "2022-10-12T19:32:57.406540",
     "status": "completed"
    },
    "tags": []
   },
   "outputs": [],
   "source": [
    "train = pd.read_csv(\"../input/jpx-tokyo-stock-exchange-prediction/train_files/stock_prices.csv\",parse_dates=[\"Date\"])\n",
    "train=train.drop(columns=['RowId','ExpectedDividend','AdjustmentFactor','SupervisionFlag']).dropna().reset_index(drop=True)"
   ]
  },
  {
   "cell_type": "code",
   "execution_count": 4,
   "id": "4bf50f09",
   "metadata": {
    "execution": {
     "iopub.execute_input": "2022-10-12T19:33:04.568304Z",
     "iopub.status.busy": "2022-10-12T19:33:04.567974Z",
     "iopub.status.idle": "2022-10-12T19:33:04.576639Z",
     "shell.execute_reply": "2022-10-12T19:33:04.575734Z"
    },
    "papermill": {
     "duration": 0.023449,
     "end_time": "2022-10-12T19:33:04.578578",
     "exception": false,
     "start_time": "2022-10-12T19:33:04.555129",
     "status": "completed"
    },
    "tags": []
   },
   "outputs": [],
   "source": [
    "def add_features(feats):\n",
    "    feats[\"return_1month\"] = feats[\"Close\"].pct_change(20)\n",
    "    feats[\"return_2month\"] = feats[\"Close\"].pct_change(40)\n",
    "    feats[\"return_3month\"] = feats[\"Close\"].pct_change(60)\n",
    "    feats[\"volatility_1month\"] = (\n",
    "        np.log(feats[\"Close\"]).diff().rolling(20).std()\n",
    "    )\n",
    "    feats[\"volatility_2month\"] = (\n",
    "        np.log(feats[\"Close\"]).diff().rolling(40).std()\n",
    "    )\n",
    "    feats[\"volatility_3month\"] = (\n",
    "        np.log(feats[\"Close\"]).diff().rolling(60).std()\n",
    "    )\n",
    "    feats[\"MA_gap_1month\"] = feats[\"Close\"] / (\n",
    "        feats[\"Close\"].rolling(20).mean()\n",
    "    )\n",
    "    feats[\"MA_gap_2month\"] = feats[\"Close\"] / (\n",
    "        feats[\"Close\"].rolling(40).mean()\n",
    "    )\n",
    "    feats[\"MA_gap_3month\"] = feats[\"Close\"] / (\n",
    "        feats[\"Close\"].rolling(60).mean()\n",
    "    )\n",
    "    \n",
    "    return feats"
   ]
  },
  {
   "cell_type": "code",
   "execution_count": 5,
   "id": "ade6b073",
   "metadata": {
    "execution": {
     "iopub.execute_input": "2022-10-12T19:33:04.603307Z",
     "iopub.status.busy": "2022-10-12T19:33:04.602852Z",
     "iopub.status.idle": "2022-10-12T19:33:05.242070Z",
     "shell.execute_reply": "2022-10-12T19:33:05.241370Z"
    },
    "papermill": {
     "duration": 0.654109,
     "end_time": "2022-10-12T19:33:05.244278",
     "exception": false,
     "start_time": "2022-10-12T19:33:04.590169",
     "status": "completed"
    },
    "tags": []
   },
   "outputs": [],
   "source": [
    "train = add_features(train)"
   ]
  },
  {
   "cell_type": "code",
   "execution_count": 6,
   "id": "dbfd0f4e",
   "metadata": {
    "execution": {
     "iopub.execute_input": "2022-10-12T19:33:05.268383Z",
     "iopub.status.busy": "2022-10-12T19:33:05.268092Z",
     "iopub.status.idle": "2022-10-12T19:33:05.283649Z",
     "shell.execute_reply": "2022-10-12T19:33:05.282824Z"
    },
    "papermill": {
     "duration": 0.030362,
     "end_time": "2022-10-12T19:33:05.286031",
     "exception": false,
     "start_time": "2022-10-12T19:33:05.255669",
     "status": "completed"
    },
    "tags": []
   },
   "outputs": [],
   "source": [
    "def feval_rmse(y_pred, lgb_train):\n",
    "    y_true = lgb_train.get_label()\n",
    "    return 'rmse', mean_squared_error(y_true, y_pred), False\n",
    "\n",
    "def feval_pearsonr(y_pred, lgb_train):\n",
    "    y_true = lgb_train.get_label()\n",
    "    return 'pearsonr', stats.pearsonr(y_true, y_pred)[0], True\n",
    "\n",
    "def calc_spread_return_per_day(df, portfolio_size=200, toprank_weight_ratio=2):\n",
    "    assert df['Rank'].min() == 0\n",
    "    assert df['Rank'].max() == len(df['Rank']) - 1\n",
    "    weights = np.linspace(start=toprank_weight_ratio, stop=1, num=portfolio_size)\n",
    "    purchase = (df.sort_values(by='Rank')['Target'][:portfolio_size] * weights).sum() / weights.mean()\n",
    "    short = (df.sort_values(by='Rank', ascending=False)['Target'][:portfolio_size] * weights).sum() / weights.mean()\n",
    "    return purchase - short\n",
    "\n",
    "def calc_spread_return_sharpe(df: pd.DataFrame, portfolio_size=200, toprank_weight_ratio=2):\n",
    "    buf = df.groupby('Date').apply(calc_spread_return_per_day, portfolio_size, toprank_weight_ratio)\n",
    "    sharpe_ratio = buf.mean() / buf.std()\n",
    "    return sharpe_ratio#, buf\n",
    "\n",
    "def add_rank(df):\n",
    "    df[\"Rank\"] = df.groupby(\"Date\")[\"Target\"].rank(ascending=False, method=\"first\") - 1 \n",
    "    df[\"Rank\"] = df[\"Rank\"].astype(\"int\")\n",
    "    return df\n",
    "\n",
    "def fill_nan_inf(df):\n",
    "    df = df.fillna(0)\n",
    "    df = df.replace([np.inf, -np.inf], 0)\n",
    "    return df\n",
    "\n",
    "def check_score(df,preds,Securities_filter=[]):\n",
    "    tmp_preds=df[['Date','SecuritiesCode']].copy()\n",
    "    tmp_preds['Target']=preds\n",
    "    \n",
    "    #Rank Filter. Calculate median for this date and assign this value to the list of Securities to filter.\n",
    "    tmp_preds['target_mean']=tmp_preds.groupby(\"Date\")[\"Target\"].transform('median')\n",
    "    tmp_preds.loc[tmp_preds['SecuritiesCode'].isin(Securities_filter),'Target']=tmp_preds['target_mean']\n",
    "    \n",
    "    tmp_preds = add_rank(tmp_preds)\n",
    "    df['Rank']=tmp_preds['Rank']\n",
    "    score=round(calc_spread_return_sharpe(df, portfolio_size= 200, toprank_weight_ratio= 2),5)\n",
    "    score_mean=round(df.groupby('Date').apply(calc_spread_return_per_day, 200, 2).mean(),5)\n",
    "    score_std=round(df.groupby('Date').apply(calc_spread_return_per_day, 200, 2).std(),5)\n",
    "    print(f'Competition_Score:{score}, rank_score_mean:{score_mean}, rank_score_std:{score_std}')"
   ]
  },
  {
   "cell_type": "code",
   "execution_count": 7,
   "id": "299682db",
   "metadata": {
    "execution": {
     "iopub.execute_input": "2022-10-12T19:33:05.311365Z",
     "iopub.status.busy": "2022-10-12T19:33:05.310880Z",
     "iopub.status.idle": "2022-10-12T19:33:05.507462Z",
     "shell.execute_reply": "2022-10-12T19:33:05.506431Z"
    },
    "papermill": {
     "duration": 0.211993,
     "end_time": "2022-10-12T19:33:05.509879",
     "exception": false,
     "start_time": "2022-10-12T19:33:05.297886",
     "status": "completed"
    },
    "tags": []
   },
   "outputs": [],
   "source": [
    "list_spred_h=list((train.groupby('SecuritiesCode')['Target'].max()-train.groupby('SecuritiesCode')['Target'].min()).sort_values()[:1000].index)\n",
    "list_spred_l=list((train.groupby('SecuritiesCode')['Target'].max()-train.groupby('SecuritiesCode')['Target'].min()).sort_values()[1000:].index)"
   ]
  },
  {
   "cell_type": "code",
   "execution_count": 8,
   "id": "51da2561",
   "metadata": {
    "execution": {
     "iopub.execute_input": "2022-10-12T19:33:05.535102Z",
     "iopub.status.busy": "2022-10-12T19:33:05.534397Z",
     "iopub.status.idle": "2022-10-12T19:38:02.098721Z",
     "shell.execute_reply": "2022-10-12T19:38:02.097975Z"
    },
    "papermill": {
     "duration": 296.592743,
     "end_time": "2022-10-12T19:38:02.114182",
     "exception": false,
     "start_time": "2022-10-12T19:33:05.521439",
     "status": "completed"
    },
    "tags": []
   },
   "outputs": [
    {
     "name": "stdout",
     "output_type": "stream",
     "text": [
      "Training until validation scores don't improve for 300 rounds\n",
      "[100]\ttraining's pearsonr: 0.0564282\tvalid_1's pearsonr: 0.0108009\n",
      "[200]\ttraining's pearsonr: 0.0680563\tvalid_1's pearsonr: 0.0134107\n",
      "[300]\ttraining's pearsonr: 0.0761529\tvalid_1's pearsonr: 0.0142165\n",
      "[400]\ttraining's pearsonr: 0.082453\tvalid_1's pearsonr: 0.0146069\n",
      "[500]\ttraining's pearsonr: 0.0883774\tvalid_1's pearsonr: 0.0147149\n",
      "[600]\ttraining's pearsonr: 0.0938508\tvalid_1's pearsonr: 0.0148599\n",
      "[700]\ttraining's pearsonr: 0.0986576\tvalid_1's pearsonr: 0.014839\n",
      "[800]\ttraining's pearsonr: 0.103034\tvalid_1's pearsonr: 0.014711\n",
      "[900]\ttraining's pearsonr: 0.106989\tvalid_1's pearsonr: 0.0146882\n",
      "Early stopping, best iteration is:\n",
      "[606]\ttraining's pearsonr: 0.0942029\tvalid_1's pearsonr: 0.0148712\n"
     ]
    }
   ],
   "source": [
    "# Training just with Securities with hight target_spread and validated with Securities with low target_spread.\n",
    "\n",
    "features =['High','Low','Open','Close','Volume', 'return_1month', 'return_2month', 'return_3month', 'volatility_1month', 'volatility_2month', 'volatility_3month',\n",
    "       'MA_gap_1month', 'MA_gap_2month', 'MA_gap_3month']\n",
    "# features =['High','Low','Open','Close','Volume',]\n",
    "train=fill_nan_inf(train)\n",
    "\n",
    "params_lgb = {'learning_rate': 0.005,'metric':'None','objective': 'regression','boosting': 'gbdt','verbosity': 0,'n_jobs': -1,'force_col_wise':True}  \n",
    "\n",
    "tr_dataset = lgb.Dataset(train[train['SecuritiesCode'].isin(list_spred_h)][features],train[train['SecuritiesCode'].isin(list_spred_h)][\"Target\"],feature_name = features )\n",
    "vl_dataset = lgb.Dataset(train[train['SecuritiesCode'].isin(list_spred_l)][features], train[train['SecuritiesCode'].isin(list_spred_l)][\"Target\"],feature_name = features)\n",
    "\n",
    "model = lgb.train(params = params_lgb, \n",
    "                train_set = tr_dataset, \n",
    "                valid_sets = [tr_dataset, vl_dataset], \n",
    "                num_boost_round = 3000, \n",
    "                feval=feval_pearsonr,\n",
    "                callbacks=[ lgb.early_stopping(stopping_rounds=300, verbose=True), lgb.log_evaluation(period=100)])    \n"
   ]
  },
  {
   "cell_type": "code",
   "execution_count": 9,
   "id": "39db4d08",
   "metadata": {
    "execution": {
     "iopub.execute_input": "2022-10-12T19:38:02.146559Z",
     "iopub.status.busy": "2022-10-12T19:38:02.145814Z",
     "iopub.status.idle": "2022-10-12T19:38:10.636025Z",
     "shell.execute_reply": "2022-10-12T19:38:10.635029Z"
    },
    "papermill": {
     "duration": 8.508952,
     "end_time": "2022-10-12T19:38:10.638411",
     "exception": false,
     "start_time": "2022-10-12T19:38:02.129459",
     "status": "completed"
    },
    "tags": []
   },
   "outputs": [
    {
     "name": "stdout",
     "output_type": "stream",
     "text": [
      "0.023902313714663583\n",
      "Competition_Score:0.25684, rank_score_mean:0.18588, rank_score_std:0.72371\n",
      "Competition_Score:0.22799, rank_score_mean:0.18293, rank_score_std:0.80235\n",
      "Competition_Score:0.194, rank_score_mean:0.10493, rank_score_std:0.54088\n"
     ]
    }
   ],
   "source": [
    "test = pd.read_csv(\"../input/jpx-tokyo-stock-exchange-prediction/supplemental_files/stock_prices.csv\",parse_dates=[\"Date\"])\n",
    "test=test.drop(columns=['RowId','ExpectedDividend','AdjustmentFactor','SupervisionFlag'])\n",
    "test = add_features(test)\n",
    "test=fill_nan_inf(test)\n",
    "preds=model.predict(test[features])\n",
    "print(math.sqrt(mean_squared_error(preds,test.Target)))\n",
    "\n",
    "check_score(test,preds)\n",
    "check_score(test,preds,list_spred_h)\n",
    "check_score(test,preds,list_spred_l)\n"
   ]
  },
  {
   "cell_type": "code",
   "execution_count": 10,
   "id": "03668a41",
   "metadata": {
    "execution": {
     "iopub.execute_input": "2022-10-12T19:38:10.673137Z",
     "iopub.status.busy": "2022-10-12T19:38:10.672828Z",
     "iopub.status.idle": "2022-10-12T19:38:11.010718Z",
     "shell.execute_reply": "2022-10-12T19:38:11.009602Z"
    },
    "papermill": {
     "duration": 0.358025,
     "end_time": "2022-10-12T19:38:11.013083",
     "exception": false,
     "start_time": "2022-10-12T19:38:10.655058",
     "status": "completed"
    },
    "tags": []
   },
   "outputs": [
    {
     "name": "stdout",
     "output_type": "stream",
     "text": [
      "This version of the API is not optimized and should not be used to estimate the runtime of your code on the hidden test set.\n"
     ]
    },
    {
     "data": {
      "text/html": [
       "<div>\n",
       "<style scoped>\n",
       "    .dataframe tbody tr th:only-of-type {\n",
       "        vertical-align: middle;\n",
       "    }\n",
       "\n",
       "    .dataframe tbody tr th {\n",
       "        vertical-align: top;\n",
       "    }\n",
       "\n",
       "    .dataframe thead th {\n",
       "        text-align: right;\n",
       "    }\n",
       "</style>\n",
       "<table border=\"1\" class=\"dataframe\">\n",
       "  <thead>\n",
       "    <tr style=\"text-align: right;\">\n",
       "      <th></th>\n",
       "      <th>Date</th>\n",
       "      <th>SecuritiesCode</th>\n",
       "      <th>Rank</th>\n",
       "    </tr>\n",
       "  </thead>\n",
       "  <tbody>\n",
       "    <tr>\n",
       "      <th>0</th>\n",
       "      <td>2021-12-07</td>\n",
       "      <td>1301</td>\n",
       "      <td>497</td>\n",
       "    </tr>\n",
       "    <tr>\n",
       "      <th>1</th>\n",
       "      <td>2021-12-07</td>\n",
       "      <td>1332</td>\n",
       "      <td>498</td>\n",
       "    </tr>\n",
       "    <tr>\n",
       "      <th>2</th>\n",
       "      <td>2021-12-07</td>\n",
       "      <td>1333</td>\n",
       "      <td>499</td>\n",
       "    </tr>\n",
       "    <tr>\n",
       "      <th>3</th>\n",
       "      <td>2021-12-07</td>\n",
       "      <td>1375</td>\n",
       "      <td>500</td>\n",
       "    </tr>\n",
       "    <tr>\n",
       "      <th>4</th>\n",
       "      <td>2021-12-07</td>\n",
       "      <td>1376</td>\n",
       "      <td>1916</td>\n",
       "    </tr>\n",
       "  </tbody>\n",
       "</table>\n",
       "</div>"
      ],
      "text/plain": [
       "         Date  SecuritiesCode  Rank\n",
       "0  2021-12-07            1301   497\n",
       "1  2021-12-07            1332   498\n",
       "2  2021-12-07            1333   499\n",
       "3  2021-12-07            1375   500\n",
       "4  2021-12-07            1376  1916"
      ]
     },
     "execution_count": 10,
     "metadata": {},
     "output_type": "execute_result"
    }
   ],
   "source": [
    "sample_submission = pd.read_csv(\"../input/jpx-tokyo-stock-exchange-prediction/example_test_files/sample_submission.csv\")\n",
    "\n",
    "env = jpx_tokyo_market_prediction.make_env()   # initialize the environment\n",
    "iter_test = env.iter_test()    # an iterator which loops over the test files\n",
    "for (prices, options, financials, trades, secondary_prices, sample_prediction) in iter_test:  \n",
    "    prices = add_features(prices)\n",
    "    prices['Target'] = model.predict(fill_nan_inf(prices)[features])\n",
    "    prices['target_mean']=prices.groupby(\"Date\")[\"Target\"].transform('median')\n",
    "    prices.loc[prices['SecuritiesCode'].isin(list_spred_h),'Target']=prices['target_mean']\n",
    "    prices = add_rank(prices)\n",
    "    sample_prediction['Rank'] = prices['Rank']\n",
    "    env.predict(sample_prediction)\n",
    "    \n",
    "sample_prediction.head(5)"
   ]
  }
 ],
 "metadata": {
  "kernelspec": {
   "display_name": "Python 3",
   "language": "python",
   "name": "python3"
  },
  "language_info": {
   "codemirror_mode": {
    "name": "ipython",
    "version": 3
   },
   "file_extension": ".py",
   "mimetype": "text/x-python",
   "name": "python",
   "nbconvert_exporter": "python",
   "pygments_lexer": "ipython3",
   "version": "3.7.12"
  },
  "papermill": {
   "default_parameters": {},
   "duration": 326.21552,
   "end_time": "2022-10-12T19:38:11.756104",
   "environment_variables": {},
   "exception": null,
   "input_path": "__notebook__.ipynb",
   "output_path": "__notebook__.ipynb",
   "parameters": {},
   "start_time": "2022-10-12T19:32:45.540584",
   "version": "2.3.4"
  }
 },
 "nbformat": 4,
 "nbformat_minor": 5
}
