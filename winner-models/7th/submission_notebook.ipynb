{
 "cells": [
  {
   "cell_type": "code",
   "execution_count": 1,
   "id": "ca53690c",
   "metadata": {
    "execution": {
     "iopub.execute_input": "2022-10-18T19:37:32.067767Z",
     "iopub.status.busy": "2022-10-18T19:37:32.067251Z",
     "iopub.status.idle": "2022-10-18T19:37:35.602922Z",
     "shell.execute_reply": "2022-10-18T19:37:35.602075Z"
    },
    "papermill": {
     "duration": 3.551258,
     "end_time": "2022-10-18T19:37:35.605298",
     "exception": false,
     "start_time": "2022-10-18T19:37:32.054040",
     "status": "completed"
    },
    "tags": []
   },
   "outputs": [
    {
     "data": {
      "text/html": [
       "<style type='text/css'>\n",
       ".datatable table.frame { margin-bottom: 0; }\n",
       ".datatable table.frame thead { border-bottom: none; }\n",
       ".datatable table.frame tr.coltypes td {  color: #FFFFFF;  line-height: 6px;  padding: 0 0.5em;}\n",
       ".datatable .bool    { background: #DDDD99; }\n",
       ".datatable .object  { background: #565656; }\n",
       ".datatable .int     { background: #5D9E5D; }\n",
       ".datatable .float   { background: #4040CC; }\n",
       ".datatable .str     { background: #CC4040; }\n",
       ".datatable .time    { background: #40CC40; }\n",
       ".datatable .row_index {  background: var(--jp-border-color3);  border-right: 1px solid var(--jp-border-color0);  color: var(--jp-ui-font-color3);  font-size: 9px;}\n",
       ".datatable .frame tbody td { text-align: left; }\n",
       ".datatable .frame tr.coltypes .row_index {  background: var(--jp-border-color0);}\n",
       ".datatable th:nth-child(2) { padding-left: 12px; }\n",
       ".datatable .hellipsis {  color: var(--jp-cell-editor-border-color);}\n",
       ".datatable .vellipsis {  background: var(--jp-layout-color0);  color: var(--jp-cell-editor-border-color);}\n",
       ".datatable .na {  color: var(--jp-cell-editor-border-color);  font-size: 80%;}\n",
       ".datatable .sp {  opacity: 0.25;}\n",
       ".datatable .footer { font-size: 9px; }\n",
       ".datatable .frame_dimensions {  background: var(--jp-border-color3);  border-top: 1px solid var(--jp-border-color0);  color: var(--jp-ui-font-color3);  display: inline-block;  opacity: 0.6;  padding: 1px 10px 1px 5px;}\n",
       "</style>\n"
      ],
      "text/plain": [
       "<IPython.core.display.HTML object>"
      ]
     },
     "metadata": {},
     "output_type": "display_data"
    }
   ],
   "source": [
    "# imports\n",
    "%matplotlib inline\n",
    "import pandas as pd\n",
    "from lightgbm import LGBMRegressor\n",
    "import matplotlib.pyplot as plt\n",
    "import jpx_tokyo_market_prediction\n",
    "import numpy as np"
   ]
  },
  {
   "cell_type": "code",
   "execution_count": 2,
   "id": "bcd8f417",
   "metadata": {
    "execution": {
     "iopub.execute_input": "2022-10-18T19:37:35.622455Z",
     "iopub.status.busy": "2022-10-18T19:37:35.622200Z",
     "iopub.status.idle": "2022-10-18T19:37:35.632949Z",
     "shell.execute_reply": "2022-10-18T19:37:35.632279Z"
    },
    "papermill": {
     "duration": 0.021522,
     "end_time": "2022-10-18T19:37:35.634738",
     "exception": false,
     "start_time": "2022-10-18T19:37:35.613216",
     "status": "completed"
    },
    "tags": []
   },
   "outputs": [],
   "source": [
    "import os\n",
    "from decimal import ROUND_HALF_UP, Decimal\n",
    "from typing import Tuple\n",
    "\n",
    "import numpy as np\n",
    "import pandas as pd\n",
    "\n",
    "\"\"\" \n",
    "Methods for preprocessing the dataset \n",
    "\"\"\"\n",
    "\n",
    "\n",
    "def data_pipeline(dir_path: str) -> Tuple[pd.DataFrame, pd.DataFrame]:\n",
    "    \"\"\"Load data and merge datasets\n",
    "\n",
    "    Args:\n",
    "        dir_path (str): path to data dir\n",
    "\n",
    "    Returns:\n",
    "        Tuple[pd.DataFrame, pd.DataFrame]: Train/Test set\n",
    "    \"\"\"\n",
    "\n",
    "    train = pd.read_csv(os.path.join(dir_path, \"train_files/stock_prices.csv\"))\n",
    "    test = pd.read_csv(os.path.join(dir_path, \"supplemental_files/stock_prices.csv\"))\n",
    "    stock_list = pd.read_csv(os.path.join(dir_path, \"stock_list.csv\"))\n",
    "    target_stock_list = stock_list[stock_list[\"Universe0\"]]\n",
    "\n",
    "    train = train.drop([\"ExpectedDividend\", \"RowId\"], axis=1)\n",
    "    train = train.fillna(0)\n",
    "    test = test.drop([\"ExpectedDividend\", \"RowId\"], axis=1)\n",
    "    test = test.fillna(0)\n",
    "\n",
    "    # merge stock categories as additional features\n",
    "    sec_info = target_stock_list[[\"SecuritiesCode\", \"33SectorName\", \"17SectorName\"]]\n",
    "    train = pd.merge(train, sec_info, on=\"SecuritiesCode\")\n",
    "    train[\"33SectorName\"] = train[\"33SectorName\"].astype(\"category\")\n",
    "    train[\"17SectorName\"] = train[\"17SectorName\"].astype(\"category\")\n",
    "\n",
    "    # use supplemental stock prices as test set to evaluate performance of classifiers\n",
    "    test = pd.merge(test, sec_info, on=\"SecuritiesCode\")\n",
    "    test[\"33SectorName\"] = test[\"33SectorName\"].astype(\"category\")\n",
    "    test[\"17SectorName\"] = test[\"17SectorName\"].astype(\"category\")\n",
    "\n",
    "    train.update(train.groupby(\"SecuritiesCode\")[\"Target\"].ffill().fillna(0))\n",
    "    test.update(test.groupby(\"SecuritiesCode\")[\"Target\"].ffill().fillna(0))\n",
    "\n",
    "\n",
    "    train[\"SupervisionFlag\"] = train[\"SupervisionFlag\"].map({True: 1, False: 0})\n",
    "    test[\"SupervisionFlag\"] = test[\"SupervisionFlag\"].map({True: 1, False: 0})\n",
    "\n",
    "    # cut timeframe where not all targets are present\n",
    "    time_config = {\"train_split_date\": \"2020-12-23\"}\n",
    "    train = train[train.Date >= time_config[\"train_split_date\"]]\n",
    "\n",
    "    return train, test, sec_info"
   ]
  },
  {
   "cell_type": "code",
   "execution_count": 3,
   "id": "01d67f0e",
   "metadata": {
    "execution": {
     "iopub.execute_input": "2022-10-18T19:37:35.649950Z",
     "iopub.status.busy": "2022-10-18T19:37:35.649749Z",
     "iopub.status.idle": "2022-10-18T19:37:44.146678Z",
     "shell.execute_reply": "2022-10-18T19:37:44.145907Z"
    },
    "papermill": {
     "duration": 8.507032,
     "end_time": "2022-10-18T19:37:44.148846",
     "exception": false,
     "start_time": "2022-10-18T19:37:35.641814",
     "status": "completed"
    },
    "tags": []
   },
   "outputs": [],
   "source": [
    "train, test, sec_info = data_pipeline(\"../input/jpx-tokyo-stock-exchange-prediction\") \n",
    "train = pd.concat([train, test])"
   ]
  },
  {
   "cell_type": "code",
   "execution_count": 4,
   "id": "ba9fdcfd",
   "metadata": {
    "execution": {
     "iopub.execute_input": "2022-10-18T19:37:44.164850Z",
     "iopub.status.busy": "2022-10-18T19:37:44.164633Z",
     "iopub.status.idle": "2022-10-18T19:37:44.173950Z",
     "shell.execute_reply": "2022-10-18T19:37:44.173285Z"
    },
    "papermill": {
     "duration": 0.019129,
     "end_time": "2022-10-18T19:37:44.175768",
     "exception": false,
     "start_time": "2022-10-18T19:37:44.156639",
     "status": "completed"
    },
    "tags": []
   },
   "outputs": [],
   "source": [
    "import optuna\n",
    "import pandas as pd\n",
    "from lightgbm import LGBMRegressor\n",
    "from sklearn.metrics import mean_absolute_error, mean_squared_error, ndcg_score\n",
    "from sklearn.preprocessing import LabelEncoder\n",
    "# from utils import GroupTimeSeriesSplit, calc_spread_return_sharpe\n",
    "\n",
    "\n",
    "class LGBMHierarchModel():\n",
    "    def __init__(self, device=None, seed=69):\n",
    "        self.seed = seed\n",
    "        self._best_found_params = {\n",
    "            \"num_leaves\": 17,\n",
    "            \"learning_rate\": 0.014,\n",
    "            \"n_estimators\": 700,\n",
    "            \"max_depth\": -1,\n",
    "        }\n",
    "        self.models = {}\n",
    "\n",
    "    def train(self, train: pd.DataFrame, use_params=False):\n",
    "        for name, group in train.groupby(\"33SectorName\"):\n",
    "            y = group[\"Target\"].to_numpy()\n",
    "            X = group.drop([\"Target\"], axis=1)\n",
    "            X = X.drop([\"Date\", \"SecuritiesCode\"], axis=1)\n",
    "            model = LGBMRegressor(**self._best_found_params)\n",
    "            model.fit(X, y, verbose=False)\n",
    "            self.models[name] = model\n",
    "\n",
    "    def predict(self, test: pd.DataFrame):\n",
    "        y_preds = []\n",
    "        for name, group in test.groupby(\"33SectorName\"):\n",
    "            sec_codes = group[\"SecuritiesCode\"]\n",
    "            X_test = group.drop([\"Date\", \"SecuritiesCode\"], axis=1)\n",
    "            y_pred = self.models[name].predict(X_test)\n",
    "            y_preds.extend(list(zip(sec_codes, y_pred)))\n",
    "        df = pd.DataFrame(y_preds, columns=[\"codes\", \"pred\"])\n",
    "        return df.sort_values(\"codes\", ascending=True)[\"pred\"].values"
   ]
  },
  {
   "cell_type": "code",
   "execution_count": 5,
   "id": "bf0fbc11",
   "metadata": {
    "execution": {
     "iopub.execute_input": "2022-10-18T19:37:44.190951Z",
     "iopub.status.busy": "2022-10-18T19:37:44.190755Z",
     "iopub.status.idle": "2022-10-18T19:38:14.494288Z",
     "shell.execute_reply": "2022-10-18T19:38:14.493457Z"
    },
    "papermill": {
     "duration": 30.313806,
     "end_time": "2022-10-18T19:38:14.496530",
     "exception": false,
     "start_time": "2022-10-18T19:37:44.182724",
     "status": "completed"
    },
    "tags": []
   },
   "outputs": [
    {
     "name": "stderr",
     "output_type": "stream",
     "text": [
      "/opt/conda/lib/python3.7/site-packages/lightgbm/sklearn.py:736: UserWarning: 'verbose' argument is deprecated and will be removed in a future release of LightGBM. Pass 'log_evaluation()' callback via 'callbacks' argument instead.\n",
      "  _log_warning(\"'verbose' argument is deprecated and will be removed in a future release of LightGBM. \"\n"
     ]
    }
   ],
   "source": [
    "import torch \n",
    "\n",
    "device = torch.device(\"cuda\" if torch.cuda.is_available() else \"cpu\")\n",
    "model = LGBMHierarchModel(device=device, seed=69)\n",
    "model.train(train.copy(), use_params=True)"
   ]
  },
  {
   "cell_type": "code",
   "execution_count": 6,
   "id": "116a0a86",
   "metadata": {
    "execution": {
     "iopub.execute_input": "2022-10-18T19:38:14.513183Z",
     "iopub.status.busy": "2022-10-18T19:38:14.512958Z",
     "iopub.status.idle": "2022-10-18T19:38:14.516788Z",
     "shell.execute_reply": "2022-10-18T19:38:14.516097Z"
    },
    "papermill": {
     "duration": 0.014263,
     "end_time": "2022-10-18T19:38:14.518420",
     "exception": false,
     "start_time": "2022-10-18T19:38:14.504157",
     "status": "completed"
    },
    "tags": []
   },
   "outputs": [],
   "source": [
    "env = jpx_tokyo_market_prediction.make_env()\n",
    "iter_test = env.iter_test()"
   ]
  },
  {
   "cell_type": "code",
   "execution_count": 7,
   "id": "0eebba55",
   "metadata": {
    "execution": {
     "iopub.execute_input": "2022-10-18T19:38:14.534715Z",
     "iopub.status.busy": "2022-10-18T19:38:14.534123Z",
     "iopub.status.idle": "2022-10-18T19:38:15.303684Z",
     "shell.execute_reply": "2022-10-18T19:38:15.302972Z"
    },
    "papermill": {
     "duration": 0.78003,
     "end_time": "2022-10-18T19:38:15.305883",
     "exception": false,
     "start_time": "2022-10-18T19:38:14.525853",
     "status": "completed"
    },
    "tags": []
   },
   "outputs": [
    {
     "name": "stdout",
     "output_type": "stream",
     "text": [
      "This version of the API is not optimized and should not be used to estimate the runtime of your code on the hidden test set.\n"
     ]
    }
   ],
   "source": [
    "# test loop\n",
    "for (df_test, options, financials, trades, secondary_prices, df_pred) in iter_test:\n",
    "    x_test = df_test.drop([\"ExpectedDividend\", \"RowId\"], axis=1)\n",
    "    x_test = x_test.fillna(0)\n",
    "\n",
    "    # merge stock categories as additional features\n",
    "    x_test = pd.merge(x_test, sec_info, on=\"SecuritiesCode\")\n",
    "    x_test[\"33SectorName\"] = x_test[\"33SectorName\"].astype(\"category\")\n",
    "    x_test[\"17SectorName\"] = x_test[\"17SectorName\"].astype(\"category\")\n",
    "\n",
    "    x_test[\"SupervisionFlag\"] = x_test[\"SupervisionFlag\"].map({True: 1, False: 0})\n",
    "    \n",
    "    y_pred = model.predict(x_test)\n",
    "    df_pred['Target'] = y_pred\n",
    "    df_pred = df_pred.sort_values(by = \"Target\", ascending = False)\n",
    "    df_pred['Rank'] = np.arange(len(df_pred.index))\n",
    "    df_pred = df_pred.sort_values(by = \"SecuritiesCode\", ascending = True)\n",
    "    df_pred.drop([\"Target\"], axis = 1)\n",
    "    submission = df_pred[[\"Date\", \"SecuritiesCode\", \"Rank\"]]    \n",
    "    env.predict(submission)"
   ]
  }
 ],
 "metadata": {
  "kernelspec": {
   "display_name": "Python 3",
   "language": "python",
   "name": "python3"
  },
  "language_info": {
   "codemirror_mode": {
    "name": "ipython",
    "version": 3
   },
   "file_extension": ".py",
   "mimetype": "text/x-python",
   "name": "python",
   "nbconvert_exporter": "python",
   "pygments_lexer": "ipython3",
   "version": "3.7.12"
  },
  "papermill": {
   "default_parameters": {},
   "duration": 52.647634,
   "end_time": "2022-10-18T19:38:16.535101",
   "environment_variables": {},
   "exception": null,
   "input_path": "__notebook__.ipynb",
   "output_path": "__notebook__.ipynb",
   "parameters": {},
   "start_time": "2022-10-18T19:37:23.887467",
   "version": "2.3.4"
  }
 },
 "nbformat": 4,
 "nbformat_minor": 5
}
