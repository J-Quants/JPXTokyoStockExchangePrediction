{
 "cells": [
  {
   "cell_type": "code",
   "execution_count": 1,
   "id": "3fdc759c",
   "metadata": {
    "_cell_guid": "b1076dfc-b9ad-4769-8c92-a6c4dae69d19",
    "_uuid": "8f2839f25d086af736a60e9eeb907d3b93b6e0e5",
    "execution": {
     "iopub.execute_input": "2022-05-14T10:13:00.225922Z",
     "iopub.status.busy": "2022-05-14T10:13:00.225508Z",
     "iopub.status.idle": "2022-05-14T10:13:02.320201Z",
     "shell.execute_reply": "2022-05-14T10:13:02.319111Z"
    },
    "papermill": {
     "duration": 2.115942,
     "end_time": "2022-05-14T10:13:02.322754",
     "exception": false,
     "start_time": "2022-05-14T10:13:00.206812",
     "status": "completed"
    },
    "tags": []
   },
   "outputs": [
    {
     "data": {
      "text/html": [
       "<style type='text/css'>\n",
       ".datatable table.frame { margin-bottom: 0; }\n",
       ".datatable table.frame thead { border-bottom: none; }\n",
       ".datatable table.frame tr.coltypes td {  color: #FFFFFF;  line-height: 6px;  padding: 0 0.5em;}\n",
       ".datatable .bool    { background: #DDDD99; }\n",
       ".datatable .object  { background: #565656; }\n",
       ".datatable .int     { background: #5D9E5D; }\n",
       ".datatable .float   { background: #4040CC; }\n",
       ".datatable .str     { background: #CC4040; }\n",
       ".datatable .time    { background: #40CC40; }\n",
       ".datatable .row_index {  background: var(--jp-border-color3);  border-right: 1px solid var(--jp-border-color0);  color: var(--jp-ui-font-color3);  font-size: 9px;}\n",
       ".datatable .frame tbody td { text-align: left; }\n",
       ".datatable .frame tr.coltypes .row_index {  background: var(--jp-border-color0);}\n",
       ".datatable th:nth-child(2) { padding-left: 12px; }\n",
       ".datatable .hellipsis {  color: var(--jp-cell-editor-border-color);}\n",
       ".datatable .vellipsis {  background: var(--jp-layout-color0);  color: var(--jp-cell-editor-border-color);}\n",
       ".datatable .na {  color: var(--jp-cell-editor-border-color);  font-size: 80%;}\n",
       ".datatable .sp {  opacity: 0.25;}\n",
       ".datatable .footer { font-size: 9px; }\n",
       ".datatable .frame_dimensions {  background: var(--jp-border-color3);  border-top: 1px solid var(--jp-border-color0);  color: var(--jp-ui-font-color3);  display: inline-block;  opacity: 0.6;  padding: 1px 10px 1px 5px;}\n",
       "</style>\n"
      ],
      "text/plain": [
       "<IPython.core.display.HTML object>"
      ]
     },
     "metadata": {},
     "output_type": "display_data"
    }
   ],
   "source": [
    "import os\n",
    "import shutil\n",
    "import sys\n",
    "import pickle\n",
    "\n",
    "import numpy as np # linear algebra\n",
    "import pandas as pd # data processing, CSV file I/O (e.g. pd.read_csv)\n",
    "\n",
    "import lightgbm as lgbm"
   ]
  },
  {
   "cell_type": "code",
   "execution_count": 2,
   "id": "9dfd95dc",
   "metadata": {
    "execution": {
     "iopub.execute_input": "2022-05-14T10:13:02.353455Z",
     "iopub.status.busy": "2022-05-14T10:13:02.352742Z",
     "iopub.status.idle": "2022-05-14T10:13:02.377842Z",
     "shell.execute_reply": "2022-05-14T10:13:02.376837Z"
    },
    "papermill": {
     "duration": 0.043799,
     "end_time": "2022-05-14T10:13:02.380368",
     "exception": false,
     "start_time": "2022-05-14T10:13:02.336569",
     "status": "completed"
    },
    "tags": []
   },
   "outputs": [],
   "source": [
    "if not os.path.exists(r\"./Features.py\"):\n",
    "    shutil.copyfile(r\"../input/codejpx/Features.py\", r\"./Features.py\")\n",
    "if not os.path.exists(r\"./Preprocessing.py\"):\n",
    "    shutil.copyfile(r\"../input/codejpx/Preprocessing.py\", r\"./Preprocessing.py\")\n",
    "if not os.path.exists(r\"./Trackers.py\"):\n",
    "    shutil.copyfile(r\"../input/codejpx/Trackers.py\", r\"./Trackers.py\")\n",
    "if not os.path.exists(r\"./Validation.py\"):\n",
    "    shutil.copyfile(r\"../input/codejpx/Validation.py\", r\"./Validation.py\")"
   ]
  },
  {
   "cell_type": "code",
   "execution_count": 3,
   "id": "9049ff2d",
   "metadata": {
    "execution": {
     "iopub.execute_input": "2022-05-14T10:13:02.409538Z",
     "iopub.status.busy": "2022-05-14T10:13:02.408540Z",
     "iopub.status.idle": "2022-05-14T10:13:02.422926Z",
     "shell.execute_reply": "2022-05-14T10:13:02.421714Z"
    },
    "papermill": {
     "duration": 0.032188,
     "end_time": "2022-05-14T10:13:02.425893",
     "exception": false,
     "start_time": "2022-05-14T10:13:02.393705",
     "status": "completed"
    },
    "tags": []
   },
   "outputs": [],
   "source": [
    "import Features\n",
    "from Preprocessing import StockDataPreprocessor\n",
    "from Trackers import StateTracker"
   ]
  },
  {
   "cell_type": "markdown",
   "id": "b76530e6",
   "metadata": {
    "papermill": {
     "duration": 0.01269,
     "end_time": "2022-05-14T10:13:02.451458",
     "exception": false,
     "start_time": "2022-05-14T10:13:02.438768",
     "status": "completed"
    },
    "tags": []
   },
   "source": [
    "## Specify Features"
   ]
  },
  {
   "cell_type": "code",
   "execution_count": 4,
   "id": "a89dd3af",
   "metadata": {
    "execution": {
     "iopub.execute_input": "2022-05-14T10:13:02.480303Z",
     "iopub.status.busy": "2022-05-14T10:13:02.479978Z",
     "iopub.status.idle": "2022-05-14T10:13:02.485461Z",
     "shell.execute_reply": "2022-05-14T10:13:02.484735Z"
    },
    "papermill": {
     "duration": 0.022046,
     "end_time": "2022-05-14T10:13:02.487462",
     "exception": false,
     "start_time": "2022-05-14T10:13:02.465416",
     "status": "completed"
    },
    "tags": []
   },
   "outputs": [],
   "source": [
    "features = [Features.Amplitude(), Features.OpenCloseReturn(), Features.Return(), \n",
    "            Features.Volatility(10), Features.Volatility(30), Features.Volatility(50), \n",
    "            Features.SMA(\"Close\", 3), Features.SMA(\"Close\", 5), Features.SMA(\"Close\", 10),\n",
    "            Features.SMA(\"Close\", 30),\n",
    "            Features.SMA(\"Return\", 3), Features.SMA(\"Return\", 5), \n",
    "            Features.SMA(\"Return\", 10), Features.SMA(\"Return\", 30),\n",
    "           ]"
   ]
  },
  {
   "cell_type": "code",
   "execution_count": 5,
   "id": "d35c5cd4",
   "metadata": {
    "execution": {
     "iopub.execute_input": "2022-05-14T10:13:02.519277Z",
     "iopub.status.busy": "2022-05-14T10:13:02.518810Z",
     "iopub.status.idle": "2022-05-14T10:13:02.733950Z",
     "shell.execute_reply": "2022-05-14T10:13:02.733066Z"
    },
    "papermill": {
     "duration": 0.232892,
     "end_time": "2022-05-14T10:13:02.736419",
     "exception": false,
     "start_time": "2022-05-14T10:13:02.503527",
     "status": "completed"
    },
    "tags": []
   },
   "outputs": [],
   "source": [
    "st = StateTracker(features)"
   ]
  },
  {
   "cell_type": "code",
   "execution_count": 6,
   "id": "e246911c",
   "metadata": {
    "execution": {
     "iopub.execute_input": "2022-05-14T10:13:02.764953Z",
     "iopub.status.busy": "2022-05-14T10:13:02.764681Z",
     "iopub.status.idle": "2022-05-14T10:13:02.769770Z",
     "shell.execute_reply": "2022-05-14T10:13:02.768785Z"
    },
    "papermill": {
     "duration": 0.021808,
     "end_time": "2022-05-14T10:13:02.771867",
     "exception": false,
     "start_time": "2022-05-14T10:13:02.750059",
     "status": "completed"
    },
    "tags": []
   },
   "outputs": [],
   "source": [
    "## Specify training columns and specify categorical columns\n",
    "training_cols = ['SecuritiesCode', 'Open', 'High', 'Low', 'Close',\n",
    "                 'Volume', 'AdjustmentFactor', 'ExpectedDividend', \n",
    "                 'SupervisionFlag']\n",
    "\n",
    "for feature in features:\n",
    "    training_cols.append(feature.name)\n",
    "\n",
    "categorical_cols = [\"SecuritiesCode\", \"SupervisionFlag\"]\n",
    "target_col = [\"Target\"]"
   ]
  },
  {
   "cell_type": "code",
   "execution_count": 7,
   "id": "98babc12",
   "metadata": {
    "execution": {
     "iopub.execute_input": "2022-05-14T10:13:02.800431Z",
     "iopub.status.busy": "2022-05-14T10:13:02.800118Z",
     "iopub.status.idle": "2022-05-14T10:13:02.845334Z",
     "shell.execute_reply": "2022-05-14T10:13:02.844418Z"
    },
    "papermill": {
     "duration": 0.062451,
     "end_time": "2022-05-14T10:13:02.847934",
     "exception": false,
     "start_time": "2022-05-14T10:13:02.785483",
     "status": "completed"
    },
    "tags": []
   },
   "outputs": [],
   "source": [
    "with open(r\"../input/lgbm001/lgbm.pickle\", \"rb\") as file:\n",
    "    model = pickle.load(file)"
   ]
  },
  {
   "cell_type": "code",
   "execution_count": 8,
   "id": "45a99e14",
   "metadata": {
    "execution": {
     "iopub.execute_input": "2022-05-14T10:13:02.877620Z",
     "iopub.status.busy": "2022-05-14T10:13:02.876960Z",
     "iopub.status.idle": "2022-05-14T10:13:02.883919Z",
     "shell.execute_reply": "2022-05-14T10:13:02.883033Z"
    },
    "papermill": {
     "duration": 0.024013,
     "end_time": "2022-05-14T10:13:02.886037",
     "exception": false,
     "start_time": "2022-05-14T10:13:02.862024",
     "status": "completed"
    },
    "tags": []
   },
   "outputs": [],
   "source": [
    "def get_ranks(prices):\n",
    "    prices = st.online_update_apply(prices)[training_cols]\n",
    "    if not prices[\"SecuritiesCode\"].is_monotonic_increasing:\n",
    "        prices = prices.sort_values(by=\"SecuritiesCode\")\n",
    "    predictions = model.predict(prices[training_cols])\n",
    "    ranks = np.arange(1999, -1, -1)\n",
    "    zipped = list(zip(predictions, ranks))\n",
    "    zipped.sort(key=lambda x: -x[0])\n",
    "    sorted_predictions, sorted_ranks = map(list, zip(*zipped))\n",
    "    \n",
    "    return sorted_predictions, sorted_ranks"
   ]
  },
  {
   "cell_type": "code",
   "execution_count": 9,
   "id": "70ba89d5",
   "metadata": {
    "execution": {
     "iopub.execute_input": "2022-05-14T10:13:02.914525Z",
     "iopub.status.busy": "2022-05-14T10:13:02.914165Z",
     "iopub.status.idle": "2022-05-14T10:13:02.926262Z",
     "shell.execute_reply": "2022-05-14T10:13:02.925564Z"
    },
    "papermill": {
     "duration": 0.028773,
     "end_time": "2022-05-14T10:13:02.928363",
     "exception": false,
     "start_time": "2022-05-14T10:13:02.899590",
     "status": "completed"
    },
    "tags": []
   },
   "outputs": [],
   "source": [
    "class Algo:\n",
    "    \n",
    "    def __init__(self, model, state_tracker):\n",
    "        self.model = model\n",
    "        self.st = state_tracker\n",
    "        self.cols = ['SecuritiesCode', 'Open', 'High', 'Low', 'Close',\n",
    "                 'Volume', 'AdjustmentFactor', 'ExpectedDividend', \n",
    "                 'SupervisionFlag']\n",
    "        \n",
    "        for feature in self.st.local_features[1301]:\n",
    "            self.cols.append(feature.name)\n",
    "    \n",
    "    def add_rank(self, df):\n",
    "        df = df.sort_values(by = \"Prediction\", ascending=False)\n",
    "        df['Rank'] = np.arange(len(df))\n",
    "        df = df.sort_values(by = \"SecuritiesCode\", ascending=True)\n",
    "        return df\n",
    "    \n",
    "    def predict_offline(self, prices):\n",
    "        prices = prices[self.cols]\n",
    "        prices[\"Prediction\"] = self.model.predict(prices)\n",
    "        return self.add_rank(prices)\n",
    "    \n",
    "    def predict_offline_full(self, prices):\n",
    "        return prices.groupby(\"Date\").apply(lambda subdf: self.predict_offline(subdf))\n",
    "    \n",
    "    def add_rank1(self, df):\n",
    "        predictions = df[\"Prediction\"]\n",
    "        ranks = np.arange(2000)\n",
    "        zipped = list(zip(predictions, ranks))\n",
    "        zipped.sort(key=lambda x: -x[0])\n",
    "        sorted_predictions, sorted_ranks = map(list, zip(*zipped))\n",
    "        df[\"Rank\"] = sorted_ranks\n",
    "        return df\n",
    "    \n",
    "    def predict_online(self, prices, options, financials, trades, secondary_prices):\n",
    "        prices = st.online_update_apply(prices)[self.cols]\n",
    "        if not prices[\"SecuritiesCode\"].is_monotonic_increasing:\n",
    "            prices = prices.sort_values(by=\"SecuritiesCode\")\n",
    "        prices[\"Prediction\"] = self.model.predict(prices)\n",
    "        return self.add_rank1(prices)"
   ]
  },
  {
   "cell_type": "code",
   "execution_count": 10,
   "id": "0db4c041",
   "metadata": {
    "execution": {
     "iopub.execute_input": "2022-05-14T10:13:02.956596Z",
     "iopub.status.busy": "2022-05-14T10:13:02.955752Z",
     "iopub.status.idle": "2022-05-14T10:13:02.960912Z",
     "shell.execute_reply": "2022-05-14T10:13:02.959964Z"
    },
    "papermill": {
     "duration": 0.021668,
     "end_time": "2022-05-14T10:13:02.962931",
     "exception": false,
     "start_time": "2022-05-14T10:13:02.941263",
     "status": "completed"
    },
    "tags": []
   },
   "outputs": [],
   "source": [
    "algo = Algo(model, st)"
   ]
  },
  {
   "cell_type": "code",
   "execution_count": 11,
   "id": "be6972d0",
   "metadata": {
    "execution": {
     "iopub.execute_input": "2022-05-14T10:13:02.990788Z",
     "iopub.status.busy": "2022-05-14T10:13:02.990108Z",
     "iopub.status.idle": "2022-05-14T10:13:03.012267Z",
     "shell.execute_reply": "2022-05-14T10:13:03.011595Z"
    },
    "papermill": {
     "duration": 0.0388,
     "end_time": "2022-05-14T10:13:03.014610",
     "exception": false,
     "start_time": "2022-05-14T10:13:02.975810",
     "status": "completed"
    },
    "tags": []
   },
   "outputs": [],
   "source": [
    "import jpx_tokyo_market_prediction"
   ]
  },
  {
   "cell_type": "code",
   "execution_count": 12,
   "id": "005cee19",
   "metadata": {
    "execution": {
     "iopub.execute_input": "2022-05-14T10:13:03.043154Z",
     "iopub.status.busy": "2022-05-14T10:13:03.042835Z",
     "iopub.status.idle": "2022-05-14T10:13:40.256374Z",
     "shell.execute_reply": "2022-05-14T10:13:40.255786Z"
    },
    "papermill": {
     "duration": 37.230693,
     "end_time": "2022-05-14T10:13:40.258451",
     "exception": false,
     "start_time": "2022-05-14T10:13:03.027758",
     "status": "completed"
    },
    "tags": []
   },
   "outputs": [
    {
     "name": "stdout",
     "output_type": "stream",
     "text": [
      "This version of the API is not optimized and should not be used to estimate the runtime of your code on the hidden test set.\n"
     ]
    }
   ],
   "source": [
    "env = jpx_tokyo_market_prediction.make_env()   # initialize the environment\n",
    "iter_test = env.iter_test()    # an iterator which loops over the test files\n",
    "\n",
    "for (prices, options, financials, trades, secondary_prices, sample_prediction) in iter_test:\n",
    "    \n",
    "    if not sample_prediction[\"SecuritiesCode\"].is_monotonic_increasing:\n",
    "        sample_prediction = sample_prediction.sort_values(\"SecuritiesCode\")\n",
    "    \n",
    "    sample_prediction['Rank'] = algo.predict_online(prices, options, financials,\n",
    "                                                    trades, secondary_prices)['Rank']  # make your predictions here\n",
    "    env.predict(sample_prediction)   # register your predictions"
   ]
  },
  {
   "cell_type": "code",
   "execution_count": 13,
   "id": "29cf082f",
   "metadata": {
    "execution": {
     "iopub.execute_input": "2022-05-14T10:13:40.285179Z",
     "iopub.status.busy": "2022-05-14T10:13:40.284569Z",
     "iopub.status.idle": "2022-05-14T10:13:40.395488Z",
     "shell.execute_reply": "2022-05-14T10:13:40.394269Z"
    },
    "papermill": {
     "duration": 0.126266,
     "end_time": "2022-05-14T10:13:40.397345",
     "exception": true,
     "start_time": "2022-05-14T10:13:40.271079",
     "status": "failed"
    },
    "tags": []
   },
   "outputs": [
    {
     "ename": "NameError",
     "evalue": "name 'df_stocks' is not defined",
     "output_type": "error",
     "traceback": [
      "\u001b[0;31m---------------------------------------------------------------------------\u001b[0m",
      "\u001b[0;31mNameError\u001b[0m                                 Traceback (most recent call last)",
      "\u001b[0;32m/tmp/ipykernel_19/1401590857.py\u001b[0m in \u001b[0;36m<module>\u001b[0;34m\u001b[0m\n\u001b[0;32m----> 1\u001b[0;31m \u001b[0mdf_stocks\u001b[0m\u001b[0;34m\u001b[0m\u001b[0;34m\u001b[0m\u001b[0m\n\u001b[0m",
      "\u001b[0;31mNameError\u001b[0m: name 'df_stocks' is not defined"
     ]
    }
   ],
   "source": [
    "df_stocks"
   ]
  },
  {
   "cell_type": "code",
   "execution_count": null,
   "id": "b3c55f41",
   "metadata": {
    "papermill": {
     "duration": null,
     "end_time": null,
     "exception": null,
     "start_time": null,
     "status": "pending"
    },
    "tags": []
   },
   "outputs": [],
   "source": []
  }
 ],
 "metadata": {
  "kernelspec": {
   "display_name": "Python 3",
   "language": "python",
   "name": "python3"
  },
  "language_info": {
   "codemirror_mode": {
    "name": "ipython",
    "version": 3
   },
   "file_extension": ".py",
   "mimetype": "text/x-python",
   "name": "python",
   "nbconvert_exporter": "python",
   "pygments_lexer": "ipython3",
   "version": "3.7.12"
  },
  "papermill": {
   "default_parameters": {},
   "duration": 49.611659,
   "end_time": "2022-05-14T10:13:41.130904",
   "environment_variables": {},
   "exception": true,
   "input_path": "__notebook__.ipynb",
   "output_path": "__notebook__.ipynb",
   "parameters": {},
   "start_time": "2022-05-14T10:12:51.519245",
   "version": "2.3.4"
  }
 },
 "nbformat": 4,
 "nbformat_minor": 5
}
